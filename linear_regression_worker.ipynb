{
 "cells": [
  {
   "cell_type": "markdown",
   "metadata": {},
   "source": [
    "# Importing the libraries"
   ]
  },
  {
   "cell_type": "code",
   "execution_count": 2,
   "metadata": {},
   "outputs": [],
   "source": [
    "import numpy as np\n",
    "import matplotlib.pylab as plt\n",
    "import pandas as pd"
   ]
  },
  {
   "cell_type": "markdown",
   "metadata": {},
   "source": [
    "# Importing worker dataset"
   ]
  },
  {
   "cell_type": "markdown",
   "metadata": {},
   "source": [
    "#####    X คือ คนงานรวม y คือ เงินทุนรวม"
   ]
  },
  {
   "cell_type": "code",
   "execution_count": 3,
   "metadata": {},
   "outputs": [],
   "source": [
    "dataset = pd.read_csv('hp_no_outlier.csv')\n",
    "X = dataset.iloc[:, 2].values\n",
    "y = dataset.iloc[:, 1].values"
   ]
  },
  {
   "cell_type": "markdown",
   "metadata": {},
   "source": [
    "##### Reshape to 2d array"
   ]
  },
  {
   "cell_type": "code",
   "execution_count": 4,
   "metadata": {},
   "outputs": [],
   "source": [
    "X = X.reshape(len(X),1)"
   ]
  },
  {
   "cell_type": "code",
   "execution_count": 5,
   "metadata": {},
   "outputs": [
    {
     "data": {
      "text/plain": [
       "array([[ 5.],\n",
       "       [10.],\n",
       "       [ 1.],\n",
       "       ...,\n",
       "       [ 8.],\n",
       "       [15.],\n",
       "       [22.]])"
      ]
     },
     "execution_count": 5,
     "metadata": {},
     "output_type": "execute_result"
    }
   ],
   "source": [
    "X"
   ]
  },
  {
   "cell_type": "code",
   "execution_count": 6,
   "metadata": {},
   "outputs": [
    {
     "data": {
      "text/plain": [
       "array([20000000., 43100000.,  8035000., ..., 15700000., 45000000.,\n",
       "        3500000.])"
      ]
     },
     "execution_count": 6,
     "metadata": {},
     "output_type": "execute_result"
    }
   ],
   "source": [
    "y"
   ]
  },
  {
   "cell_type": "markdown",
   "metadata": {},
   "source": [
    "# Split dataset into the Training set and Test set"
   ]
  },
  {
   "cell_type": "code",
   "execution_count": 23,
   "metadata": {},
   "outputs": [],
   "source": [
    "from sklearn.model_selection import train_test_split\n",
    "X_train, X_test, y_train, y_test = train_test_split(X, y, test_size = 0.2, random_state = 0)"
   ]
  },
  {
   "cell_type": "markdown",
   "metadata": {},
   "source": [
    "# Training simple linear regression on worker training set"
   ]
  },
  {
   "cell_type": "code",
   "execution_count": 29,
   "metadata": {},
   "outputs": [
    {
     "data": {
      "text/plain": [
       "LinearRegression()"
      ]
     },
     "execution_count": 29,
     "metadata": {},
     "output_type": "execute_result"
    }
   ],
   "source": [
    "from sklearn.linear_model import LinearRegression\n",
    "regressor = LinearRegression()\n",
    "regressor.fit(X_train, y_train)"
   ]
  },
  {
   "cell_type": "markdown",
   "metadata": {},
   "source": [
    "# Predicting the worker Test set results"
   ]
  },
  {
   "cell_type": "code",
   "execution_count": 33,
   "metadata": {},
   "outputs": [
    {
     "name": "stdout",
     "output_type": "stream",
     "text": [
      "[[10648968.14  8000000.  ]\n",
      " [10648968.14  9100000.  ]\n",
      " [ 9345270.44  2400000.  ]\n",
      " [12387231.75 10800000.  ]\n",
      " [11083534.04 37000000.  ]\n",
      " [ 8041572.73  6430000.  ]\n",
      " [10648968.14  6050000.  ]\n",
      " [12387231.75  5000000.  ]\n",
      " [11518099.94 21000000.  ]\n",
      " [14125495.35  1500000.  ]\n",
      " [ 8476138.63  1200000.  ]\n",
      " [10648968.14  2850000.  ]\n",
      " [ 8476138.63  1500000.  ]\n",
      " [13690929.45 11000000.  ]\n",
      " [ 9345270.44 10700000.  ]\n",
      " [12387231.75  9700000.  ]\n",
      " [12387231.75  2050000.  ]\n",
      " [11518099.94  5764000.  ]\n",
      " [ 8910704.54 16000000.  ]\n",
      " [ 9779836.34 10000000.  ]\n",
      " [ 9345270.44  7000000.  ]\n",
      " [12821797.65  5000000.  ]\n",
      " [11518099.94  1600000.  ]\n",
      " [ 7172440.93 38100000.  ]\n",
      " [10648968.14 14500000.  ]\n",
      " [14125495.35 24000000.  ]\n",
      " [13690929.45  4566000.  ]\n",
      " [ 9779836.34  3700000.  ]\n",
      " [12387231.75  2650000.  ]\n",
      " [ 8910704.54 11000000.  ]\n",
      " [12821797.65  8000000.  ]\n",
      " [ 8476138.63  2500000.  ]\n",
      " [14125495.35  9700000.  ]\n",
      " [10648968.14 14500000.  ]\n",
      " [12387231.75  2900000.  ]\n",
      " [10214402.24  9050000.  ]\n",
      " [ 7607006.83  1600000.  ]\n",
      " [11518099.94  6000000.  ]\n",
      " [11518099.94  9000000.  ]\n",
      " [16046918.52 38355233.35]\n",
      " [12821797.65 20600000.  ]\n",
      " [ 9779836.34  4200000.  ]\n",
      " [ 9345270.44  6600000.  ]\n",
      " [16732890.76  4600000.  ]\n",
      " [ 9345270.44  5050000.  ]\n",
      " [ 9345270.44 15000000.  ]\n",
      " [12821797.65   900000.  ]\n",
      " [ 8476138.63  4000000.  ]\n",
      " [11083534.04  1200000.  ]\n",
      " [13690929.45  8000000.  ]\n",
      " [11518099.94  4000000.  ]\n",
      " [12821797.65 18850000.  ]\n",
      " [14125495.35 23000000.  ]\n",
      " [ 9345270.44  6500000.  ]\n",
      " [12821797.65 32000000.  ]\n",
      " [ 8910704.54 18200000.  ]\n",
      " [10648968.14 28490000.  ]\n",
      " [ 9779836.34 16200000.  ]\n",
      " [10648968.14  5000000.  ]\n",
      " [ 8476138.63 35000000.  ]\n",
      " [12821797.65  8860000.  ]\n",
      " [10214402.24 10000000.  ]\n",
      " [ 8910704.54 10700000.  ]\n",
      " [14994627.16 16000000.  ]\n",
      " [ 8476138.63 15820000.  ]\n",
      " [ 8476138.63 13520000.  ]\n",
      " [ 8476138.63 12219075.  ]\n",
      " [10648968.14  3000000.  ]\n",
      " [15429193.06 19000000.  ]\n",
      " [14994627.16  2300000.  ]\n",
      " [ 9779836.34  5500000.  ]\n",
      " [ 8910704.54  3500000.  ]\n",
      " [10648968.14 11300000.  ]\n",
      " [ 8476138.63   940000.  ]\n",
      " [ 8041572.73  2875000.  ]\n",
      " [ 9779836.34  8500000.  ]\n",
      " [11518099.94 15500000.  ]\n",
      " [10214402.24 10000000.  ]\n",
      " [11083534.04  1200000.  ]\n",
      " [12387231.75 12000000.  ]\n",
      " [ 8476138.63 15000000.  ]\n",
      " [ 9779836.34 11400000.  ]\n",
      " [11518099.94 10000000.  ]\n",
      " [10648968.14  5000000.  ]\n",
      " [10648968.14  7600000.  ]\n",
      " [ 8476138.63  1950000.  ]\n",
      " [14994627.16  2500000.  ]\n",
      " [ 7172440.93  2000000.  ]\n",
      " [ 9345270.44  1000000.  ]\n",
      " [ 8910704.54  6850000.  ]\n",
      " [11083534.04  5000000.  ]\n",
      " [ 9345270.44 11000000.  ]\n",
      " [ 8041572.73  6500000.  ]\n",
      " [14994627.16 26800000.  ]\n",
      " [ 7607006.83  5500000.  ]\n",
      " [10648968.14  7000000.  ]\n",
      " [14125495.35 16000000.  ]\n",
      " [ 8041572.73 11000000.  ]\n",
      " [17167456.66 23000000.  ]\n",
      " [17167456.66  9000000.  ]\n",
      " [ 9345270.44  5400000.  ]\n",
      " [ 8910704.54 30000000.  ]\n",
      " [12821797.65  9000000.  ]\n",
      " [ 9345270.44 25800000.  ]\n",
      " [ 8910704.54  7700000.  ]\n",
      " [10214402.24  6600000.  ]\n",
      " [ 8476138.63  2200000.  ]\n",
      " [ 9779836.34  8200000.  ]\n",
      " [ 8476138.63  3400000.  ]\n",
      " [10648968.14  6800000.  ]\n",
      " [10214402.24  3000000.  ]\n",
      " [14994627.16  4500000.  ]\n",
      " [10648968.14 13000000.  ]\n",
      " [11518099.94  1400000.  ]\n",
      " [11518099.94  3000000.  ]\n",
      " [ 9779836.34   900000.  ]\n",
      " [14994627.16 23000000.  ]\n",
      " [10648968.14  8048000.  ]\n",
      " [ 9345270.44  8500000.  ]\n",
      " [ 9345270.44 43200000.  ]\n",
      " [ 8476138.63  3000000.  ]\n",
      " [11952665.85   830000.  ]\n",
      " [11518099.94 17000000.  ]\n",
      " [ 8910704.54 23565000.  ]\n",
      " [10648968.14  3000000.  ]\n",
      " [ 9779836.34 24000000.  ]\n",
      " [ 7607006.83  3600000.  ]\n",
      " [17167456.66 43000000.  ]\n",
      " [12821797.65  5075000.  ]\n",
      " [ 8041572.73  5500000.  ]\n",
      " [ 9345270.44 30000000.  ]\n",
      " [ 8476138.63   200000.  ]\n",
      " [ 7607006.83  4800000.  ]\n",
      " [11518099.94  5000000.  ]\n",
      " [14125495.35 13000000.  ]\n",
      " [ 8041572.73  4100000.  ]\n",
      " [17167456.66  6000000.  ]\n",
      " [ 8910704.54  2450000.  ]\n",
      " [10648968.14 21000000.  ]\n",
      " [10648968.14  1150000.  ]\n",
      " [11518099.94   400000.  ]\n",
      " [ 9779836.34 16000000.  ]\n",
      " [ 9779836.34  6500000.  ]\n",
      " [11083534.04  9500000.  ]\n",
      " [14994627.16  4000000.  ]\n",
      " [ 9345270.44 12716000.  ]\n",
      " [11518099.94 19500000.  ]\n",
      " [11518099.94  8300000.  ]\n",
      " [ 8476138.63  1800000.  ]\n",
      " [14994627.16  5000000.  ]\n",
      " [11952665.85  1000000.  ]\n",
      " [10648968.14 10540000.  ]\n",
      " [ 8910704.54  3200000.  ]\n",
      " [ 7607006.83  3100000.  ]\n",
      " [10648968.14 18000000.  ]\n",
      " [11518099.94 17000000.  ]\n",
      " [10648968.14  7000000.  ]\n",
      " [12387231.75  9700000.  ]\n",
      " [ 8041572.73 12000000.  ]\n",
      " [ 7172440.93  9500000.  ]\n",
      " [11083534.04 12500000.  ]\n",
      " [11518099.94 15000000.  ]\n",
      " [12821797.65 18500000.  ]\n",
      " [10214402.24 13520000.  ]\n",
      " [11952665.85 32800000.  ]\n",
      " [11083534.04  3000000.  ]\n",
      " [ 9345270.44  7000000.  ]\n",
      " [11083534.04  8659200.  ]\n",
      " [14994627.16  4000000.  ]\n",
      " [14994627.16 13200000.  ]\n",
      " [12821797.65  7900000.  ]\n",
      " [14994627.16 44981000.  ]\n",
      " [12387231.75  9000000.  ]\n",
      " [ 8041572.73  5100000.  ]\n",
      " [11083534.04 29000000.  ]\n",
      " [ 9779836.34 11000000.  ]\n",
      " [13256363.55 10000000.  ]\n",
      " [ 7607006.83 15000000.  ]\n",
      " [ 8910704.54  4050000.  ]\n",
      " [15429193.06 10000000.  ]\n",
      " [14125495.35 15760000.  ]\n",
      " [ 9779836.34  4000000.  ]\n",
      " [ 8476138.63  3500000.  ]\n",
      " [12387231.75 22500000.  ]\n",
      " [ 7607006.83 12600000.  ]\n",
      " [ 7172440.93  1250000.  ]\n",
      " [12821797.65 10500000.  ]\n",
      " [12821797.65 22000000.  ]\n",
      " [ 8910704.54 10000000.  ]\n",
      " [10648968.14 15000000.  ]\n",
      " [12821797.65 22500000.  ]\n",
      " [ 9345270.44 37300000.  ]\n",
      " [10648968.14  4000000.  ]\n",
      " [11518099.94 14200000.  ]\n",
      " [14125495.35  5300000.  ]\n",
      " [ 9779836.34 30290000.  ]\n",
      " [10648968.14  9800000.  ]\n",
      " [12387231.75 22500000.  ]\n",
      " [11952665.85  3000000.  ]\n",
      " [10648968.14  7000000.  ]\n",
      " [12821797.65  5000000.  ]\n",
      " [14994627.16 43800000.  ]\n",
      " [12821797.65 12000000.  ]\n",
      " [ 8476138.63  1511760.  ]\n",
      " [ 8041572.73   220000.  ]\n",
      " [ 6737875.03  8035000.  ]\n",
      " [ 7607006.83   750000.  ]\n",
      " [10214402.24 35000000.  ]\n",
      " [10648968.14 12000000.  ]\n",
      " [11518099.94 13000000.  ]\n",
      " [ 9345270.44 37000000.  ]\n",
      " [ 8041572.73  7500000.  ]\n",
      " [18036588.46 45407500.  ]\n",
      " [18471154.37 20584000.  ]\n",
      " [ 7607006.83  8714000.  ]\n",
      " [ 9779836.34 15500000.  ]\n",
      " [10648968.14  7700000.  ]\n",
      " [11518099.94  5000000.  ]\n",
      " [12387231.75 13500000.  ]\n",
      " [ 7607006.83 27000000.  ]\n",
      " [ 8476138.63  7000000.  ]\n",
      " [11083534.04  5500000.  ]\n",
      " [ 8910704.54 12000000.  ]\n",
      " [ 8476138.63  5000000.  ]\n",
      " [12387231.75 30000000.  ]\n",
      " [10214402.24 12300000.  ]\n",
      " [ 9345270.44  7000000.  ]\n",
      " [17167456.66 19900000.  ]\n",
      " [ 8910704.54  2500000.  ]\n",
      " [ 9779836.34 19200000.  ]\n",
      " [14125495.35 25000000.  ]\n",
      " [ 9779836.34 13000000.  ]\n",
      " [ 9345270.44  9000000.  ]\n",
      " [11518099.94 15000000.  ]\n",
      " [11518099.94  7300000.  ]\n",
      " [11518099.94 10500000.  ]\n",
      " [10648968.14 43100000.  ]\n",
      " [14994627.16  7500000.  ]\n",
      " [10648968.14  7250000.  ]\n",
      " [10214402.24 10200000.  ]\n",
      " [ 9345270.44  9000000.  ]\n",
      " [10648968.14  1800000.  ]\n",
      " [ 8041572.73  3110000.  ]\n",
      " [ 9345270.44  6000000.  ]\n",
      " [11518099.94 15000000.  ]\n",
      " [14994627.16  4800000.  ]\n",
      " [14994627.16 18000000.  ]\n",
      " [10648968.14  3000000.  ]\n",
      " [12821797.65 36500000.  ]\n",
      " [11952665.85  3060000.  ]\n",
      " [ 9345270.44   900000.  ]\n",
      " [11518099.94  2800000.  ]\n",
      " [12821797.65  6000000.  ]\n",
      " [ 9345270.44  5500000.  ]\n",
      " [ 9345270.44  5000000.  ]\n",
      " [13690929.45 15000000.  ]\n",
      " [ 8476138.63  1700000.  ]\n",
      " [17602022.56 25000000.  ]\n",
      " [ 9779836.34  8150000.  ]\n",
      " [11083534.04  9000000.  ]\n",
      " [10648968.14  6500000.  ]\n",
      " [10648968.14   400000.  ]\n",
      " [ 8476138.63  3020000.  ]\n",
      " [ 8041572.73 33000000.  ]\n",
      " [ 8041572.73  3000000.  ]\n",
      " [ 9779836.34  5000000.  ]\n",
      " [10214402.24  6000000.  ]\n",
      " [10648968.14   800000.  ]\n",
      " [12387231.75  6100000.  ]\n",
      " [12387231.75 10500000.  ]\n",
      " [ 7607006.83  2100000.  ]\n",
      " [10214402.24 17315892.  ]\n",
      " [17167456.66 13200000.  ]\n",
      " [10214402.24  4100000.  ]\n",
      " [ 8910704.54 11000000.  ]\n",
      " [ 8476138.63  6040000.  ]\n",
      " [ 9345270.44  4300000.  ]\n",
      " [10648968.14  9000000.  ]\n",
      " [10648968.14  3000000.  ]\n",
      " [ 8476138.63  8000000.  ]\n",
      " [14560061.25  5000000.  ]\n",
      " [ 7607006.83  9000000.  ]\n",
      " [ 8476138.63  2690000.  ]\n",
      " [14125495.35 38000000.  ]\n",
      " [ 6737875.03 12000000.  ]\n",
      " [14125495.35  5000000.  ]\n",
      " [ 9345270.44  4550000.  ]\n",
      " [ 8910704.54  4100000.  ]\n",
      " [12821797.65  1650000.  ]\n",
      " [11518099.94 11900000.  ]\n",
      " [11952665.85 13500000.  ]\n",
      " [ 8041572.73  1500000.  ]\n",
      " [17167456.66  8150000.  ]\n",
      " [10648968.14 31000000.  ]\n",
      " [11952665.85  4300000.  ]\n",
      " [15863758.96  9019515.  ]\n",
      " [10648968.14 14300000.  ]\n",
      " [11518099.94  1100000.  ]\n",
      " [12821797.65  3700000.  ]\n",
      " [ 9345270.44  7000000.  ]\n",
      " [11518099.94 11100000.  ]\n",
      " [10214402.24  1500000.  ]\n",
      " [ 8910704.54  4100000.  ]]\n"
     ]
    }
   ],
   "source": [
    "y_pred = regressor.predict(X_test)\n",
    "np.set_printoptions(precision=2)\n",
    "print(np.concatenate((y_pred.reshape(len(y_pred),1), y_test.reshape(len(y_test),1)),1))"
   ]
  },
  {
   "cell_type": "markdown",
   "metadata": {},
   "source": [
    "# Visualising the worker Training set results"
   ]
  },
  {
   "cell_type": "code",
   "execution_count": 35,
   "metadata": {},
   "outputs": [
    {
     "name": "stderr",
     "output_type": "stream",
     "text": [
      "C:\\Users\\LENOVO LEGION\\AppData\\Local\\Programs\\Python\\Python39\\lib\\site-packages\\matplotlib\\backends\\backend_agg.py:240: RuntimeWarning: Glyph 3648 missing from current font.\n",
      "  font.set_text(s, 0.0, flags=flags)\n",
      "C:\\Users\\LENOVO LEGION\\AppData\\Local\\Programs\\Python\\Python39\\lib\\site-packages\\matplotlib\\backends\\backend_agg.py:240: RuntimeWarning: Glyph 3591 missing from current font.\n",
      "  font.set_text(s, 0.0, flags=flags)\n",
      "C:\\Users\\LENOVO LEGION\\AppData\\Local\\Programs\\Python\\Python39\\lib\\site-packages\\matplotlib\\backends\\backend_agg.py:240: RuntimeWarning: Glyph 3636 missing from current font.\n",
      "  font.set_text(s, 0.0, flags=flags)\n",
      "C:\\Users\\LENOVO LEGION\\AppData\\Local\\Programs\\Python\\Python39\\lib\\site-packages\\matplotlib\\backends\\backend_agg.py:240: RuntimeWarning: Glyph 3609 missing from current font.\n",
      "  font.set_text(s, 0.0, flags=flags)\n",
      "C:\\Users\\LENOVO LEGION\\AppData\\Local\\Programs\\Python\\Python39\\lib\\site-packages\\matplotlib\\backends\\backend_agg.py:240: RuntimeWarning: Glyph 3607 missing from current font.\n",
      "  font.set_text(s, 0.0, flags=flags)\n",
      "C:\\Users\\LENOVO LEGION\\AppData\\Local\\Programs\\Python\\Python39\\lib\\site-packages\\matplotlib\\backends\\backend_agg.py:240: RuntimeWarning: Glyph 3640 missing from current font.\n",
      "  font.set_text(s, 0.0, flags=flags)\n",
      "C:\\Users\\LENOVO LEGION\\AppData\\Local\\Programs\\Python\\Python39\\lib\\site-packages\\matplotlib\\backends\\backend_agg.py:240: RuntimeWarning: Glyph 3619 missing from current font.\n",
      "  font.set_text(s, 0.0, flags=flags)\n",
      "C:\\Users\\LENOVO LEGION\\AppData\\Local\\Programs\\Python\\Python39\\lib\\site-packages\\matplotlib\\backends\\backend_agg.py:240: RuntimeWarning: Glyph 3623 missing from current font.\n",
      "  font.set_text(s, 0.0, flags=flags)\n",
      "C:\\Users\\LENOVO LEGION\\AppData\\Local\\Programs\\Python\\Python39\\lib\\site-packages\\matplotlib\\backends\\backend_agg.py:240: RuntimeWarning: Glyph 3617 missing from current font.\n",
      "  font.set_text(s, 0.0, flags=flags)\n",
      "C:\\Users\\LENOVO LEGION\\AppData\\Local\\Programs\\Python\\Python39\\lib\\site-packages\\matplotlib\\backends\\backend_agg.py:240: RuntimeWarning: Glyph 3585 missing from current font.\n",
      "  font.set_text(s, 0.0, flags=flags)\n",
      "C:\\Users\\LENOVO LEGION\\AppData\\Local\\Programs\\Python\\Python39\\lib\\site-packages\\matplotlib\\backends\\backend_agg.py:240: RuntimeWarning: Glyph 3633 missing from current font.\n",
      "  font.set_text(s, 0.0, flags=flags)\n",
      "C:\\Users\\LENOVO LEGION\\AppData\\Local\\Programs\\Python\\Python39\\lib\\site-packages\\matplotlib\\backends\\backend_agg.py:240: RuntimeWarning: Glyph 3610 missing from current font.\n",
      "  font.set_text(s, 0.0, flags=flags)\n",
      "C:\\Users\\LENOVO LEGION\\AppData\\Local\\Programs\\Python\\Python39\\lib\\site-packages\\matplotlib\\backends\\backend_agg.py:240: RuntimeWarning: Glyph 3588 missing from current font.\n",
      "  font.set_text(s, 0.0, flags=flags)\n",
      "C:\\Users\\LENOVO LEGION\\AppData\\Local\\Programs\\Python\\Python39\\lib\\site-packages\\matplotlib\\backends\\backend_agg.py:240: RuntimeWarning: Glyph 3634 missing from current font.\n",
      "  font.set_text(s, 0.0, flags=flags)\n",
      "C:\\Users\\LENOVO LEGION\\AppData\\Local\\Programs\\Python\\Python39\\lib\\site-packages\\matplotlib\\backends\\backend_agg.py:203: RuntimeWarning: Glyph 3588 missing from current font.\n",
      "  font.set_text(s, 0, flags=flags)\n",
      "C:\\Users\\LENOVO LEGION\\AppData\\Local\\Programs\\Python\\Python39\\lib\\site-packages\\matplotlib\\backends\\backend_agg.py:203: RuntimeWarning: Glyph 3609 missing from current font.\n",
      "  font.set_text(s, 0, flags=flags)\n",
      "C:\\Users\\LENOVO LEGION\\AppData\\Local\\Programs\\Python\\Python39\\lib\\site-packages\\matplotlib\\backends\\backend_agg.py:203: RuntimeWarning: Glyph 3591 missing from current font.\n",
      "  font.set_text(s, 0, flags=flags)\n",
      "C:\\Users\\LENOVO LEGION\\AppData\\Local\\Programs\\Python\\Python39\\lib\\site-packages\\matplotlib\\backends\\backend_agg.py:203: RuntimeWarning: Glyph 3634 missing from current font.\n",
      "  font.set_text(s, 0, flags=flags)\n",
      "C:\\Users\\LENOVO LEGION\\AppData\\Local\\Programs\\Python\\Python39\\lib\\site-packages\\matplotlib\\backends\\backend_agg.py:203: RuntimeWarning: Glyph 3619 missing from current font.\n",
      "  font.set_text(s, 0, flags=flags)\n",
      "C:\\Users\\LENOVO LEGION\\AppData\\Local\\Programs\\Python\\Python39\\lib\\site-packages\\matplotlib\\backends\\backend_agg.py:203: RuntimeWarning: Glyph 3623 missing from current font.\n",
      "  font.set_text(s, 0, flags=flags)\n",
      "C:\\Users\\LENOVO LEGION\\AppData\\Local\\Programs\\Python\\Python39\\lib\\site-packages\\matplotlib\\backends\\backend_agg.py:203: RuntimeWarning: Glyph 3617 missing from current font.\n",
      "  font.set_text(s, 0, flags=flags)\n",
      "C:\\Users\\LENOVO LEGION\\AppData\\Local\\Programs\\Python\\Python39\\lib\\site-packages\\matplotlib\\backends\\backend_agg.py:203: RuntimeWarning: Glyph 3648 missing from current font.\n",
      "  font.set_text(s, 0, flags=flags)\n",
      "C:\\Users\\LENOVO LEGION\\AppData\\Local\\Programs\\Python\\Python39\\lib\\site-packages\\matplotlib\\backends\\backend_agg.py:203: RuntimeWarning: Glyph 3636 missing from current font.\n",
      "  font.set_text(s, 0, flags=flags)\n",
      "C:\\Users\\LENOVO LEGION\\AppData\\Local\\Programs\\Python\\Python39\\lib\\site-packages\\matplotlib\\backends\\backend_agg.py:203: RuntimeWarning: Glyph 3607 missing from current font.\n",
      "  font.set_text(s, 0, flags=flags)\n",
      "C:\\Users\\LENOVO LEGION\\AppData\\Local\\Programs\\Python\\Python39\\lib\\site-packages\\matplotlib\\backends\\backend_agg.py:203: RuntimeWarning: Glyph 3640 missing from current font.\n",
      "  font.set_text(s, 0, flags=flags)\n",
      "C:\\Users\\LENOVO LEGION\\AppData\\Local\\Programs\\Python\\Python39\\lib\\site-packages\\matplotlib\\backends\\backend_agg.py:203: RuntimeWarning: Glyph 3610 missing from current font.\n",
      "  font.set_text(s, 0, flags=flags)\n",
      "C:\\Users\\LENOVO LEGION\\AppData\\Local\\Programs\\Python\\Python39\\lib\\site-packages\\matplotlib\\backends\\backend_agg.py:203: RuntimeWarning: Glyph 3585 missing from current font.\n",
      "  font.set_text(s, 0, flags=flags)\n",
      "C:\\Users\\LENOVO LEGION\\AppData\\Local\\Programs\\Python\\Python39\\lib\\site-packages\\matplotlib\\backends\\backend_agg.py:203: RuntimeWarning: Glyph 3633 missing from current font.\n",
      "  font.set_text(s, 0, flags=flags)\n"
     ]
    },
    {
     "data": {
      "image/png": "[encoded data removed]",
      "text/plain": [
       "<Figure size 432x288 with 1 Axes>"
      ]
     },
     "metadata": {
      "needs_background": "light"
     },
     "output_type": "display_data"
    }
   ],
   "source": [
    "plt.scatter(X_train, y_train , color = 'red')\n",
    "plt.plot(X_train, regressor.predict(X_train), color = 'blue')\n",
    "plt.title('เงินทุนรวม กับ คนงานรวม (Training sets)')\n",
    "plt.xlabel('คนงานรวม (คน)')\n",
    "plt.ylabel('เงินทุนรวม (บาท)')\n",
    "plt.show()"
   ]
  },
  {
   "cell_type": "markdown",
   "metadata": {},
   "source": [
    "# Visualing the worker Test set results"
   ]
  },
  {
   "cell_type": "code",
   "execution_count": 36,
   "metadata": {},
   "outputs": [
    {
     "name": "stderr",
     "output_type": "stream",
     "text": [
      "C:\\Users\\LENOVO LEGION\\AppData\\Local\\Programs\\Python\\Python39\\lib\\site-packages\\matplotlib\\backends\\backend_agg.py:240: RuntimeWarning: Glyph 3648 missing from current font.\n",
      "  font.set_text(s, 0.0, flags=flags)\n",
      "C:\\Users\\LENOVO LEGION\\AppData\\Local\\Programs\\Python\\Python39\\lib\\site-packages\\matplotlib\\backends\\backend_agg.py:240: RuntimeWarning: Glyph 3591 missing from current font.\n",
      "  font.set_text(s, 0.0, flags=flags)\n",
      "C:\\Users\\LENOVO LEGION\\AppData\\Local\\Programs\\Python\\Python39\\lib\\site-packages\\matplotlib\\backends\\backend_agg.py:240: RuntimeWarning: Glyph 3636 missing from current font.\n",
      "  font.set_text(s, 0.0, flags=flags)\n",
      "C:\\Users\\LENOVO LEGION\\AppData\\Local\\Programs\\Python\\Python39\\lib\\site-packages\\matplotlib\\backends\\backend_agg.py:240: RuntimeWarning: Glyph 3609 missing from current font.\n",
      "  font.set_text(s, 0.0, flags=flags)\n",
      "C:\\Users\\LENOVO LEGION\\AppData\\Local\\Programs\\Python\\Python39\\lib\\site-packages\\matplotlib\\backends\\backend_agg.py:240: RuntimeWarning: Glyph 3607 missing from current font.\n",
      "  font.set_text(s, 0.0, flags=flags)\n",
      "C:\\Users\\LENOVO LEGION\\AppData\\Local\\Programs\\Python\\Python39\\lib\\site-packages\\matplotlib\\backends\\backend_agg.py:240: RuntimeWarning: Glyph 3640 missing from current font.\n",
      "  font.set_text(s, 0.0, flags=flags)\n",
      "C:\\Users\\LENOVO LEGION\\AppData\\Local\\Programs\\Python\\Python39\\lib\\site-packages\\matplotlib\\backends\\backend_agg.py:240: RuntimeWarning: Glyph 3619 missing from current font.\n",
      "  font.set_text(s, 0.0, flags=flags)\n",
      "C:\\Users\\LENOVO LEGION\\AppData\\Local\\Programs\\Python\\Python39\\lib\\site-packages\\matplotlib\\backends\\backend_agg.py:240: RuntimeWarning: Glyph 3623 missing from current font.\n",
      "  font.set_text(s, 0.0, flags=flags)\n",
      "C:\\Users\\LENOVO LEGION\\AppData\\Local\\Programs\\Python\\Python39\\lib\\site-packages\\matplotlib\\backends\\backend_agg.py:240: RuntimeWarning: Glyph 3617 missing from current font.\n",
      "  font.set_text(s, 0.0, flags=flags)\n",
      "C:\\Users\\LENOVO LEGION\\AppData\\Local\\Programs\\Python\\Python39\\lib\\site-packages\\matplotlib\\backends\\backend_agg.py:240: RuntimeWarning: Glyph 3585 missing from current font.\n",
      "  font.set_text(s, 0.0, flags=flags)\n",
      "C:\\Users\\LENOVO LEGION\\AppData\\Local\\Programs\\Python\\Python39\\lib\\site-packages\\matplotlib\\backends\\backend_agg.py:240: RuntimeWarning: Glyph 3633 missing from current font.\n",
      "  font.set_text(s, 0.0, flags=flags)\n",
      "C:\\Users\\LENOVO LEGION\\AppData\\Local\\Programs\\Python\\Python39\\lib\\site-packages\\matplotlib\\backends\\backend_agg.py:240: RuntimeWarning: Glyph 3610 missing from current font.\n",
      "  font.set_text(s, 0.0, flags=flags)\n",
      "C:\\Users\\LENOVO LEGION\\AppData\\Local\\Programs\\Python\\Python39\\lib\\site-packages\\matplotlib\\backends\\backend_agg.py:240: RuntimeWarning: Glyph 3588 missing from current font.\n",
      "  font.set_text(s, 0.0, flags=flags)\n",
      "C:\\Users\\LENOVO LEGION\\AppData\\Local\\Programs\\Python\\Python39\\lib\\site-packages\\matplotlib\\backends\\backend_agg.py:240: RuntimeWarning: Glyph 3634 missing from current font.\n",
      "  font.set_text(s, 0.0, flags=flags)\n",
      "C:\\Users\\LENOVO LEGION\\AppData\\Local\\Programs\\Python\\Python39\\lib\\site-packages\\matplotlib\\backends\\backend_agg.py:203: RuntimeWarning: Glyph 3588 missing from current font.\n",
      "  font.set_text(s, 0, flags=flags)\n",
      "C:\\Users\\LENOVO LEGION\\AppData\\Local\\Programs\\Python\\Python39\\lib\\site-packages\\matplotlib\\backends\\backend_agg.py:203: RuntimeWarning: Glyph 3609 missing from current font.\n",
      "  font.set_text(s, 0, flags=flags)\n",
      "C:\\Users\\LENOVO LEGION\\AppData\\Local\\Programs\\Python\\Python39\\lib\\site-packages\\matplotlib\\backends\\backend_agg.py:203: RuntimeWarning: Glyph 3591 missing from current font.\n",
      "  font.set_text(s, 0, flags=flags)\n",
      "C:\\Users\\LENOVO LEGION\\AppData\\Local\\Programs\\Python\\Python39\\lib\\site-packages\\matplotlib\\backends\\backend_agg.py:203: RuntimeWarning: Glyph 3634 missing from current font.\n",
      "  font.set_text(s, 0, flags=flags)\n",
      "C:\\Users\\LENOVO LEGION\\AppData\\Local\\Programs\\Python\\Python39\\lib\\site-packages\\matplotlib\\backends\\backend_agg.py:203: RuntimeWarning: Glyph 3619 missing from current font.\n",
      "  font.set_text(s, 0, flags=flags)\n",
      "C:\\Users\\LENOVO LEGION\\AppData\\Local\\Programs\\Python\\Python39\\lib\\site-packages\\matplotlib\\backends\\backend_agg.py:203: RuntimeWarning: Glyph 3623 missing from current font.\n",
      "  font.set_text(s, 0, flags=flags)\n",
      "C:\\Users\\LENOVO LEGION\\AppData\\Local\\Programs\\Python\\Python39\\lib\\site-packages\\matplotlib\\backends\\backend_agg.py:203: RuntimeWarning: Glyph 3617 missing from current font.\n",
      "  font.set_text(s, 0, flags=flags)\n",
      "C:\\Users\\LENOVO LEGION\\AppData\\Local\\Programs\\Python\\Python39\\lib\\site-packages\\matplotlib\\backends\\backend_agg.py:203: RuntimeWarning: Glyph 3648 missing from current font.\n",
      "  font.set_text(s, 0, flags=flags)\n",
      "C:\\Users\\LENOVO LEGION\\AppData\\Local\\Programs\\Python\\Python39\\lib\\site-packages\\matplotlib\\backends\\backend_agg.py:203: RuntimeWarning: Glyph 3636 missing from current font.\n",
      "  font.set_text(s, 0, flags=flags)\n",
      "C:\\Users\\LENOVO LEGION\\AppData\\Local\\Programs\\Python\\Python39\\lib\\site-packages\\matplotlib\\backends\\backend_agg.py:203: RuntimeWarning: Glyph 3607 missing from current font.\n",
      "  font.set_text(s, 0, flags=flags)\n",
      "C:\\Users\\LENOVO LEGION\\AppData\\Local\\Programs\\Python\\Python39\\lib\\site-packages\\matplotlib\\backends\\backend_agg.py:203: RuntimeWarning: Glyph 3640 missing from current font.\n",
      "  font.set_text(s, 0, flags=flags)\n",
      "C:\\Users\\LENOVO LEGION\\AppData\\Local\\Programs\\Python\\Python39\\lib\\site-packages\\matplotlib\\backends\\backend_agg.py:203: RuntimeWarning: Glyph 3610 missing from current font.\n",
      "  font.set_text(s, 0, flags=flags)\n",
      "C:\\Users\\LENOVO LEGION\\AppData\\Local\\Programs\\Python\\Python39\\lib\\site-packages\\matplotlib\\backends\\backend_agg.py:203: RuntimeWarning: Glyph 3585 missing from current font.\n",
      "  font.set_text(s, 0, flags=flags)\n",
      "C:\\Users\\LENOVO LEGION\\AppData\\Local\\Programs\\Python\\Python39\\lib\\site-packages\\matplotlib\\backends\\backend_agg.py:203: RuntimeWarning: Glyph 3633 missing from current font.\n",
      "  font.set_text(s, 0, flags=flags)\n"
     ]
    },
    {
     "data": {
      "image/png": "[encoded data removed]",
      "text/plain": [
       "<Figure size 432x288 with 1 Axes>"
      ]
     },
     "metadata": {
      "needs_background": "light"
     },
     "output_type": "display_data"
    }
   ],
   "source": [
    "plt.scatter(X_test, y_test , color = 'red')\n",
    "plt.plot(X_train, regressor.predict(X_train), color = 'blue')\n",
    "plt.title('เงินทุนรวม กับ คนงานรวม (Test sets)')\n",
    "plt.xlabel('คนงานรวม (คน)')\n",
    "plt.ylabel('เงินทุนรวม (บาท)')\n",
    "plt.show()"
   ]
  },
  {
   "cell_type": "markdown",
   "metadata": {},
   "source": [
    "# Compare y_test vs y_predict"
   ]
  },
  {
   "cell_type": "code",
   "execution_count": 37,
   "metadata": {},
   "outputs": [
    {
     "name": "stderr",
     "output_type": "stream",
     "text": [
      "C:\\Users\\LENOVO LEGION\\AppData\\Local\\Programs\\Python\\Python39\\lib\\site-packages\\matplotlib\\backends\\backend_agg.py:240: RuntimeWarning: Glyph 3648 missing from current font.\n",
      "  font.set_text(s, 0.0, flags=flags)\n",
      "C:\\Users\\LENOVO LEGION\\AppData\\Local\\Programs\\Python\\Python39\\lib\\site-packages\\matplotlib\\backends\\backend_agg.py:240: RuntimeWarning: Glyph 3611 missing from current font.\n",
      "  font.set_text(s, 0.0, flags=flags)\n",
      "C:\\Users\\LENOVO LEGION\\AppData\\Local\\Programs\\Python\\Python39\\lib\\site-packages\\matplotlib\\backends\\backend_agg.py:240: RuntimeWarning: Glyph 3619 missing from current font.\n",
      "  font.set_text(s, 0.0, flags=flags)\n",
      "C:\\Users\\LENOVO LEGION\\AppData\\Local\\Programs\\Python\\Python39\\lib\\site-packages\\matplotlib\\backends\\backend_agg.py:240: RuntimeWarning: Glyph 3637 missing from current font.\n",
      "  font.set_text(s, 0.0, flags=flags)\n",
      "C:\\Users\\LENOVO LEGION\\AppData\\Local\\Programs\\Python\\Python39\\lib\\site-packages\\matplotlib\\backends\\backend_agg.py:240: RuntimeWarning: Glyph 3618 missing from current font.\n",
      "  font.set_text(s, 0.0, flags=flags)\n",
      "C:\\Users\\LENOVO LEGION\\AppData\\Local\\Programs\\Python\\Python39\\lib\\site-packages\\matplotlib\\backends\\backend_agg.py:240: RuntimeWarning: Glyph 3610 missing from current font.\n",
      "  font.set_text(s, 0.0, flags=flags)\n",
      "C:\\Users\\LENOVO LEGION\\AppData\\Local\\Programs\\Python\\Python39\\lib\\site-packages\\matplotlib\\backends\\backend_agg.py:240: RuntimeWarning: Glyph 3607 missing from current font.\n",
      "  font.set_text(s, 0.0, flags=flags)\n",
      "C:\\Users\\LENOVO LEGION\\AppData\\Local\\Programs\\Python\\Python39\\lib\\site-packages\\matplotlib\\backends\\backend_agg.py:240: RuntimeWarning: Glyph 3591 missing from current font.\n",
      "  font.set_text(s, 0.0, flags=flags)\n",
      "C:\\Users\\LENOVO LEGION\\AppData\\Local\\Programs\\Python\\Python39\\lib\\site-packages\\matplotlib\\backends\\backend_agg.py:240: RuntimeWarning: Glyph 3636 missing from current font.\n",
      "  font.set_text(s, 0.0, flags=flags)\n",
      "C:\\Users\\LENOVO LEGION\\AppData\\Local\\Programs\\Python\\Python39\\lib\\site-packages\\matplotlib\\backends\\backend_agg.py:240: RuntimeWarning: Glyph 3609 missing from current font.\n",
      "  font.set_text(s, 0.0, flags=flags)\n",
      "C:\\Users\\LENOVO LEGION\\AppData\\Local\\Programs\\Python\\Python39\\lib\\site-packages\\matplotlib\\backends\\backend_agg.py:240: RuntimeWarning: Glyph 3640 missing from current font.\n",
      "  font.set_text(s, 0.0, flags=flags)\n",
      "C:\\Users\\LENOVO LEGION\\AppData\\Local\\Programs\\Python\\Python39\\lib\\site-packages\\matplotlib\\backends\\backend_agg.py:240: RuntimeWarning: Glyph 3623 missing from current font.\n",
      "  font.set_text(s, 0.0, flags=flags)\n",
      "C:\\Users\\LENOVO LEGION\\AppData\\Local\\Programs\\Python\\Python39\\lib\\site-packages\\matplotlib\\backends\\backend_agg.py:240: RuntimeWarning: Glyph 3617 missing from current font.\n",
      "  font.set_text(s, 0.0, flags=flags)\n",
      "C:\\Users\\LENOVO LEGION\\AppData\\Local\\Programs\\Python\\Python39\\lib\\site-packages\\matplotlib\\backends\\backend_agg.py:240: RuntimeWarning: Glyph 3585 missing from current font.\n",
      "  font.set_text(s, 0.0, flags=flags)\n",
      "C:\\Users\\LENOVO LEGION\\AppData\\Local\\Programs\\Python\\Python39\\lib\\site-packages\\matplotlib\\backends\\backend_agg.py:240: RuntimeWarning: Glyph 3633 missing from current font.\n",
      "  font.set_text(s, 0.0, flags=flags)\n",
      "C:\\Users\\LENOVO LEGION\\AppData\\Local\\Programs\\Python\\Python39\\lib\\site-packages\\matplotlib\\backends\\backend_agg.py:240: RuntimeWarning: Glyph 3588 missing from current font.\n",
      "  font.set_text(s, 0.0, flags=flags)\n",
      "C:\\Users\\LENOVO LEGION\\AppData\\Local\\Programs\\Python\\Python39\\lib\\site-packages\\matplotlib\\backends\\backend_agg.py:240: RuntimeWarning: Glyph 3634 missing from current font.\n",
      "  font.set_text(s, 0.0, flags=flags)\n",
      "C:\\Users\\LENOVO LEGION\\AppData\\Local\\Programs\\Python\\Python39\\lib\\site-packages\\matplotlib\\backends\\backend_agg.py:203: RuntimeWarning: Glyph 3588 missing from current font.\n",
      "  font.set_text(s, 0, flags=flags)\n",
      "C:\\Users\\LENOVO LEGION\\AppData\\Local\\Programs\\Python\\Python39\\lib\\site-packages\\matplotlib\\backends\\backend_agg.py:203: RuntimeWarning: Glyph 3609 missing from current font.\n",
      "  font.set_text(s, 0, flags=flags)\n",
      "C:\\Users\\LENOVO LEGION\\AppData\\Local\\Programs\\Python\\Python39\\lib\\site-packages\\matplotlib\\backends\\backend_agg.py:203: RuntimeWarning: Glyph 3591 missing from current font.\n",
      "  font.set_text(s, 0, flags=flags)\n",
      "C:\\Users\\LENOVO LEGION\\AppData\\Local\\Programs\\Python\\Python39\\lib\\site-packages\\matplotlib\\backends\\backend_agg.py:203: RuntimeWarning: Glyph 3634 missing from current font.\n",
      "  font.set_text(s, 0, flags=flags)\n",
      "C:\\Users\\LENOVO LEGION\\AppData\\Local\\Programs\\Python\\Python39\\lib\\site-packages\\matplotlib\\backends\\backend_agg.py:203: RuntimeWarning: Glyph 3619 missing from current font.\n",
      "  font.set_text(s, 0, flags=flags)\n",
      "C:\\Users\\LENOVO LEGION\\AppData\\Local\\Programs\\Python\\Python39\\lib\\site-packages\\matplotlib\\backends\\backend_agg.py:203: RuntimeWarning: Glyph 3623 missing from current font.\n",
      "  font.set_text(s, 0, flags=flags)\n",
      "C:\\Users\\LENOVO LEGION\\AppData\\Local\\Programs\\Python\\Python39\\lib\\site-packages\\matplotlib\\backends\\backend_agg.py:203: RuntimeWarning: Glyph 3617 missing from current font.\n",
      "  font.set_text(s, 0, flags=flags)\n",
      "C:\\Users\\LENOVO LEGION\\AppData\\Local\\Programs\\Python\\Python39\\lib\\site-packages\\matplotlib\\backends\\backend_agg.py:203: RuntimeWarning: Glyph 3648 missing from current font.\n",
      "  font.set_text(s, 0, flags=flags)\n",
      "C:\\Users\\LENOVO LEGION\\AppData\\Local\\Programs\\Python\\Python39\\lib\\site-packages\\matplotlib\\backends\\backend_agg.py:203: RuntimeWarning: Glyph 3636 missing from current font.\n",
      "  font.set_text(s, 0, flags=flags)\n",
      "C:\\Users\\LENOVO LEGION\\AppData\\Local\\Programs\\Python\\Python39\\lib\\site-packages\\matplotlib\\backends\\backend_agg.py:203: RuntimeWarning: Glyph 3607 missing from current font.\n",
      "  font.set_text(s, 0, flags=flags)\n",
      "C:\\Users\\LENOVO LEGION\\AppData\\Local\\Programs\\Python\\Python39\\lib\\site-packages\\matplotlib\\backends\\backend_agg.py:203: RuntimeWarning: Glyph 3640 missing from current font.\n",
      "  font.set_text(s, 0, flags=flags)\n",
      "C:\\Users\\LENOVO LEGION\\AppData\\Local\\Programs\\Python\\Python39\\lib\\site-packages\\matplotlib\\backends\\backend_agg.py:203: RuntimeWarning: Glyph 3610 missing from current font.\n",
      "  font.set_text(s, 0, flags=flags)\n",
      "C:\\Users\\LENOVO LEGION\\AppData\\Local\\Programs\\Python\\Python39\\lib\\site-packages\\matplotlib\\backends\\backend_agg.py:203: RuntimeWarning: Glyph 3611 missing from current font.\n",
      "  font.set_text(s, 0, flags=flags)\n",
      "C:\\Users\\LENOVO LEGION\\AppData\\Local\\Programs\\Python\\Python39\\lib\\site-packages\\matplotlib\\backends\\backend_agg.py:203: RuntimeWarning: Glyph 3637 missing from current font.\n",
      "  font.set_text(s, 0, flags=flags)\n",
      "C:\\Users\\LENOVO LEGION\\AppData\\Local\\Programs\\Python\\Python39\\lib\\site-packages\\matplotlib\\backends\\backend_agg.py:203: RuntimeWarning: Glyph 3618 missing from current font.\n",
      "  font.set_text(s, 0, flags=flags)\n",
      "C:\\Users\\LENOVO LEGION\\AppData\\Local\\Programs\\Python\\Python39\\lib\\site-packages\\matplotlib\\backends\\backend_agg.py:203: RuntimeWarning: Glyph 3585 missing from current font.\n",
      "  font.set_text(s, 0, flags=flags)\n",
      "C:\\Users\\LENOVO LEGION\\AppData\\Local\\Programs\\Python\\Python39\\lib\\site-packages\\matplotlib\\backends\\backend_agg.py:203: RuntimeWarning: Glyph 3633 missing from current font.\n",
      "  font.set_text(s, 0, flags=flags)\n"
     ]
    },
    {
     "data": {
      "image/png": "[encoded data removed]",
      "text/plain": [
       "<Figure size 432x288 with 1 Axes>"
      ]
     },
     "metadata": {
      "needs_background": "light"
     },
     "output_type": "display_data"
    }
   ],
   "source": [
    "plt.scatter(X_test, y_test , color = 'red')\n",
    "plt.scatter(X_test, y_pred , color = 'blue')\n",
    "plt.plot(X_train, regressor.predict(X_train), color = 'green')\n",
    "plt.title('เปรียบเทียบ เงินทุนรวม(test) กับ เงินทุนรวม(predict)')\n",
    "plt.xlabel('คนงานรวม (คน)')\n",
    "plt.ylabel('เงินทุนรวม (บาท)')\n",
    "plt.show()"
   ]
  },
  {
   "cell_type": "markdown",
   "metadata": {},
   "source": [
    "# Evaluating the Model Performance"
   ]
  },
  {
   "cell_type": "code",
   "execution_count": 38,
   "metadata": {},
   "outputs": [
    {
     "data": {
      "text/plain": [
       "0.06325460976327368"
      ]
     },
     "execution_count": 38,
     "metadata": {},
     "output_type": "execute_result"
    }
   ],
   "source": [
    "from sklearn.metrics import r2_score\n",
    "r2_score(y_test, y_pred)"
   ]
  }
 ],
 "metadata": {
  "interpreter": {
   "hash": "eceb7a8e593eecf964bee5cd24a0245b366a6d3412387e804a3878e990311275"
  },
  "kernelspec": {
   "display_name": "Python 3.9.2 64-bit",
   "language": "python",
   "name": "python3"
  },
  "language_info": {
   "codemirror_mode": {
    "name": "ipython",
    "version": 3
   },
   "file_extension": ".py",
   "mimetype": "text/x-python",
   "name": "python",
   "nbconvert_exporter": "python",
   "pygments_lexer": "ipython3",
   "version": "3.9.2"
  },
  "orig_nbformat": 4
 },
 "nbformat": 4,
 "nbformat_minor": 2
}
