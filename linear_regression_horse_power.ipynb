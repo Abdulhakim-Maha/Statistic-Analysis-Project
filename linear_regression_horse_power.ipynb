{
 "cells": [
  {
   "cell_type": "markdown",
   "metadata": {},
   "source": [
    "# Importing the libraries"
   ]
  },
  {
   "cell_type": "code",
   "execution_count": 1,
   "metadata": {},
   "outputs": [],
   "source": [
    "import numpy as np\n",
    "import matplotlib.pylab as plt\n",
    "import pandas as pd"
   ]
  },
  {
   "cell_type": "markdown",
   "metadata": {},
   "source": [
    "# Importing horse power dataset"
   ]
  },
  {
   "cell_type": "markdown",
   "metadata": {},
   "source": [
    "#####  X คือ แรงม้า y คือ เงินทุนรวม"
   ]
  },
  {
   "cell_type": "code",
   "execution_count": 3,
   "metadata": {},
   "outputs": [],
   "source": [
    "dataset = pd.read_csv('hp_no_outlier.csv')\n",
    "X = dataset.iloc[: , -1].values\n",
    "y = dataset.iloc[: , 1].values"
   ]
  },
  {
   "cell_type": "markdown",
   "metadata": {},
   "source": [
    "##### Reshape to 2d array"
   ]
  },
  {
   "cell_type": "code",
   "execution_count": 4,
   "metadata": {},
   "outputs": [],
   "source": [
    "X = X.reshape(len(X), 1)"
   ]
  },
  {
   "cell_type": "code",
   "execution_count": 5,
   "metadata": {},
   "outputs": [
    {
     "data": {
      "text/plain": [
       "array([[270.68],\n",
       "       [356.  ],\n",
       "       [ 83.05],\n",
       "       ...,\n",
       "       [301.29],\n",
       "       [278.5 ],\n",
       "       [115.5 ]])"
      ]
     },
     "execution_count": 5,
     "metadata": {},
     "output_type": "execute_result"
    }
   ],
   "source": [
    "X"
   ]
  },
  {
   "cell_type": "code",
   "execution_count": 6,
   "metadata": {},
   "outputs": [
    {
     "data": {
      "text/plain": [
       "array([20000000., 43100000.,  8035000., ..., 15700000., 45000000.,\n",
       "        3500000.])"
      ]
     },
     "execution_count": 6,
     "metadata": {},
     "output_type": "execute_result"
    }
   ],
   "source": [
    "y"
   ]
  },
  {
   "cell_type": "markdown",
   "metadata": {},
   "source": [
    "# Split dataset into the Training set and Test set"
   ]
  },
  {
   "cell_type": "code",
   "execution_count": 7,
   "metadata": {},
   "outputs": [],
   "source": [
    "from sklearn.model_selection import train_test_split\n",
    "X_train, X_test, y_train, y_test = train_test_split(X, y, test_size = 0.2, random_state = 0)"
   ]
  },
  {
   "cell_type": "markdown",
   "metadata": {},
   "source": [
    "# Traning simple linear regression on horse power training set"
   ]
  },
  {
   "cell_type": "code",
   "execution_count": 8,
   "metadata": {},
   "outputs": [
    {
     "data": {
      "text/plain": [
       "LinearRegression()"
      ]
     },
     "execution_count": 8,
     "metadata": {},
     "output_type": "execute_result"
    }
   ],
   "source": [
    "from sklearn.linear_model import LinearRegression\n",
    "regressor = LinearRegression()\n",
    "regressor.fit(X_train, y_train)"
   ]
  },
  {
   "cell_type": "markdown",
   "metadata": {},
   "source": [
    "# Predicting the horse power Test set results"
   ]
  },
  {
   "cell_type": "code",
   "execution_count": 9,
   "metadata": {},
   "outputs": [
    {
     "name": "stdout",
     "output_type": "stream",
     "text": [
      "[[10395122.16  8000000.  ]\n",
      " [10297882.12  9100000.  ]\n",
      " [ 8250488.58  2400000.  ]\n",
      " [20963062.87 10800000.  ]\n",
      " [11149847.63 37000000.  ]\n",
      " [ 7692919.53  6430000.  ]\n",
      " [ 8317396.86  6050000.  ]\n",
      " [19401869.54  5000000.  ]\n",
      " [17461529.25 21000000.  ]\n",
      " [ 7692919.53  1500000.  ]\n",
      " [ 8362002.39  1200000.  ]\n",
      " [ 7692919.53  2850000.  ]\n",
      " [ 8473516.2   1500000.  ]\n",
      " [17283107.16 11000000.  ]\n",
      " [13558545.92 10700000.  ]\n",
      " [ 7849038.86  9700000.  ]\n",
      " [10369250.96  2050000.  ]\n",
      " [13023279.63  5764000.  ]\n",
      " [ 9454837.72 16000000.  ]\n",
      " [15721913.82 10000000.  ]\n",
      " [ 9655562.58  7000000.  ]\n",
      " [15744216.58  5000000.  ]\n",
      " [ 7469891.91  1600000.  ]\n",
      " [ 8486897.85 38100000.  ]\n",
      " [11194453.15 14500000.  ]\n",
      " [15498886.2  24000000.  ]\n",
      " [ 9220658.72  4566000.  ]\n",
      " [ 7659465.39  3700000.  ]\n",
      " [ 8752300.72  2650000.  ]\n",
      " [13982298.39 11000000.  ]\n",
      " [10703792.39  8000000.  ]\n",
      " [10346948.2   2500000.  ]\n",
      " [15498886.2   9700000.  ]\n",
      " [ 8272791.34 14500000.  ]\n",
      " [ 9231810.1   2900000.  ]\n",
      " [ 8986479.72  9050000.  ]\n",
      " [13937692.87  1600000.  ]\n",
      " [17443240.99  6000000.  ]\n",
      " [ 8116672.01  9000000.  ]\n",
      " [21615265.94 38355233.35]\n",
      " [ 8161277.53 20600000.  ]\n",
      " [ 8585030.01  4200000.  ]\n",
      " [ 9945498.48  6600000.  ]\n",
      " [15833427.63  4600000.  ]\n",
      " [ 8027460.96  5050000.  ]\n",
      " [ 9254112.86 15000000.  ]\n",
      " [ 8049763.72   900000.  ]\n",
      " [ 7469891.91  4000000.  ]\n",
      " [ 8228185.82  1200000.  ]\n",
      " [10123920.58  8000000.  ]\n",
      " [11395178.01  4000000.  ]\n",
      " [15164344.77 18850000.  ]\n",
      " [ 7469891.91 23000000.  ]\n",
      " [ 8138974.77  6500000.  ]\n",
      " [ 9849596.61 32000000.  ]\n",
      " [17305409.92 18200000.  ]\n",
      " [ 8518121.72 28490000.  ]\n",
      " [12733343.72 16200000.  ]\n",
      " [ 9142599.06  5000000.  ]\n",
      " [ 7469891.91 35000000.  ]\n",
      " [ 8205883.05  8860000.  ]\n",
      " [ 8473516.2  10000000.  ]\n",
      " [ 9387929.44 10700000.  ]\n",
      " [18616589.29 16000000.  ]\n",
      " [16123363.54 15820000.  ]\n",
      " [11372875.25 13520000.  ]\n",
      " [ 9075690.77 12219075.  ]\n",
      " [13352245.37  3000000.  ]\n",
      " [12354196.77 19000000.  ]\n",
      " [ 9142599.06  2300000.  ]\n",
      " [10146223.34  5500000.  ]\n",
      " [ 8183580.29  3500000.  ]\n",
      " [10503067.53 11300000.  ]\n",
      " [ 7648314.01   940000.  ]\n",
      " [ 7863981.71  2875000.  ]\n",
      " [12822554.77  8500000.  ]\n",
      " [ 8183580.29 15500000.  ]\n",
      " [10681489.63 10000000.  ]\n",
      " [ 7469891.91  1200000.  ]\n",
      " [12599527.15 12000000.  ]\n",
      " [14562170.2  15000000.  ]\n",
      " [ 8537302.1  11400000.  ]\n",
      " [ 9676527.18 10000000.  ]\n",
      " [19156539.16  5000000.  ]\n",
      " [11138250.19  7600000.  ]\n",
      " [11685113.91  1950000.  ]\n",
      " [ 9176053.2   2500000.  ]\n",
      " [17171593.35  2000000.  ]\n",
      " [ 7692919.53  1000000.  ]\n",
      " [ 9633259.82  6850000.  ]\n",
      " [12777949.25  5000000.  ]\n",
      " [12019655.34 11000000.  ]\n",
      " [ 7915947.15  6500000.  ]\n",
      " [18888459.96 26800000.  ]\n",
      " [10369250.96  5500000.  ]\n",
      " [11484389.06  7000000.  ]\n",
      " [ 7949401.29 16000000.  ]\n",
      " [ 8317396.86 11000000.  ]\n",
      " [11707416.68 23000000.  ]\n",
      " [11818930.49  9000000.  ]\n",
      " [ 8808057.63  5400000.  ]\n",
      " [ 9032869.47 30000000.  ]\n",
      " [13185643.74  9000000.  ]\n",
      " [17060079.54 25800000.  ]\n",
      " [ 8138974.77  7700000.  ]\n",
      " [14673684.01  6600000.  ]\n",
      " [16948565.73  2200000.  ]\n",
      " [10048091.19  8200000.  ]\n",
      " [ 9365626.67  3400000.  ]\n",
      " [ 9343323.91  6800000.  ]\n",
      " [ 9321021.15  3000000.  ]\n",
      " [12147673.2   4500000.  ]\n",
      " [ 9410232.2  13000000.  ]\n",
      " [ 9889741.58  1400000.  ]\n",
      " [ 8049763.72  3000000.  ]\n",
      " [ 9544048.77   900000.  ]\n",
      " [13045582.39 23000000.  ]\n",
      " [ 7937580.83  8048000.  ]\n",
      " [ 9231810.1   8500000.  ]\n",
      " [ 7737525.05 43200000.  ]\n",
      " [14472959.15  3000000.  ]\n",
      " [ 8518121.72   830000.  ]\n",
      " [10926820.01 17000000.  ]\n",
      " [21186090.49 23565000.  ]\n",
      " [10146223.34  3000000.  ]\n",
      " [20965739.2  24000000.  ]\n",
      " [14049206.68  3600000.  ]\n",
      " [ 9990104.01 43000000.  ]\n",
      " [17846251.89  5075000.  ]\n",
      " [10369250.96  5500000.  ]\n",
      " [10837608.96 30000000.  ]\n",
      " [ 8579454.32   200000.  ]\n",
      " [ 9811681.91  4800000.  ]\n",
      " [ 9097993.53  5000000.  ]\n",
      " [ 8138974.77 13000000.  ]\n",
      " [10569975.82  4100000.  ]\n",
      " [10084890.75  6000000.  ]\n",
      " [ 8473516.2   2450000.  ]\n",
      " [15052830.96 21000000.  ]\n",
      " [ 8950795.3   1150000.  ]\n",
      " [ 9120296.29   400000.  ]\n",
      " [12153471.91 16000000.  ]\n",
      " [10072178.17  6500000.  ]\n",
      " [ 8428910.67  9500000.  ]\n",
      " [19201144.68  4000000.  ]\n",
      " [10748397.91 12716000.  ]\n",
      " [18282270.89 19500000.  ]\n",
      " [ 9375216.86  8300000.  ]\n",
      " [10770700.68  1800000.  ]\n",
      " [16680932.58  5000000.  ]\n",
      " [ 7581405.72  1000000.  ]\n",
      " [16614024.3  10540000.  ]\n",
      " [10770700.68  3200000.  ]\n",
      " [12376499.53  3100000.  ]\n",
      " [ 7469891.91 18000000.  ]\n",
      " [14067494.94 17000000.  ]\n",
      " [16390996.68  7000000.  ]\n",
      " [ 7849038.86  9700000.  ]\n",
      " [15476583.44 12000000.  ]\n",
      " [ 8228185.82  9500000.  ]\n",
      " [ 9780458.05 12500000.  ]\n",
      " [ 9265264.25 15000000.  ]\n",
      " [10480764.77 18500000.  ]\n",
      " [ 9120296.29 13520000.  ]\n",
      " [15921523.54 32800000.  ]\n",
      " [ 9053388.01  3000000.  ]\n",
      " [ 8344383.21  7000000.  ]\n",
      " [ 9811681.91  8659200.  ]\n",
      " [ 9209507.34  4000000.  ]\n",
      " [ 9254112.86 13200000.  ]\n",
      " [ 8027460.96  7900000.  ]\n",
      " [12153471.91 44981000.  ]\n",
      " [13045582.39  9000000.  ]\n",
      " [14517564.68  5100000.  ]\n",
      " [15930444.65 29000000.  ]\n",
      " [10726095.15 11000000.  ]\n",
      " [ 7670616.77 10000000.  ]\n",
      " [17537581.67 15000000.  ]\n",
      " [ 9031085.25  4050000.  ]\n",
      " [13982298.39 10000000.  ]\n",
      " [12252050.12 15760000.  ]\n",
      " [10146223.34  4000000.  ]\n",
      " [ 9633259.82  3500000.  ]\n",
      " [17082382.3  22500000.  ]\n",
      " [12688738.2  12600000.  ]\n",
      " [ 7692919.53  1250000.  ]\n",
      " [ 9628799.27 10500000.  ]\n",
      " [21155981.76 22000000.  ]\n",
      " [ 9231810.1  10000000.  ]\n",
      " [19491080.59 15000000.  ]\n",
      " [12666435.44 22500000.  ]\n",
      " [ 8205883.05 37300000.  ]\n",
      " [11901450.7   4000000.  ]\n",
      " [ 9321021.15 14200000.  ]\n",
      " [ 9778227.77  5300000.  ]\n",
      " [15029413.06 30290000.  ]\n",
      " [ 8138974.77  9800000.  ]\n",
      " [ 9811681.91 22500000.  ]\n",
      " [ 8116672.01  3000000.  ]\n",
      " [12019655.34  7000000.  ]\n",
      " [ 8138974.77  5000000.  ]\n",
      " [12934068.58 43800000.  ]\n",
      " [14673684.01 12000000.  ]\n",
      " [14304350.27  1511760.  ]\n",
      " [ 9031085.25   220000.  ]\n",
      " [ 8206998.19  8035000.  ]\n",
      " [11305966.96   750000.  ]\n",
      " [19067328.11 35000000.  ]\n",
      " [17560999.57 12000000.  ]\n",
      " [14896711.63 13000000.  ]\n",
      " [ 7648314.01 37000000.  ]\n",
      " [ 9251436.53  7500000.  ]\n",
      " [17506134.77 45407500.  ]\n",
      " [12889463.06 20584000.  ]\n",
      " [12911765.82  8714000.  ]\n",
      " [ 9477140.48 15500000.  ]\n",
      " [ 9878590.2   7700000.  ]\n",
      " [ 8362002.39  5000000.  ]\n",
      " [ 7486618.98 13500000.  ]\n",
      " [ 8930722.82 27000000.  ]\n",
      " [13781573.53  7000000.  ]\n",
      " [ 8362002.39  5500000.  ]\n",
      " [11818930.49 12000000.  ]\n",
      " [ 9410232.2   5000000.  ]\n",
      " [15075133.73 30000000.  ]\n",
      " [15866881.77 12300000.  ]\n",
      " [13781573.53  7000000.  ]\n",
      " [16502510.49 19900000.  ]\n",
      " [ 8540424.48  2500000.  ]\n",
      " [ 7358378.1  19200000.  ]\n",
      " [11707416.68 25000000.  ]\n",
      " [ 8027460.96 13000000.  ]\n",
      " [12889463.06  9000000.  ]\n",
      " [14350293.96 15000000.  ]\n",
      " [ 8362002.39  7300000.  ]\n",
      " [ 7715222.29 10500000.  ]\n",
      " [14294537.06 43100000.  ]\n",
      " [14116114.96  7500000.  ]\n",
      " [ 8897268.67  7250000.  ]\n",
      " [10012406.77 10200000.  ]\n",
      " [13380123.82  9000000.  ]\n",
      " [10614581.34  1800000.  ]\n",
      " [17461529.25  3110000.  ]\n",
      " [ 7670616.77  6000000.  ]\n",
      " [12822554.77 15000000.  ]\n",
      " [10190828.87  4800000.  ]\n",
      " [11261361.44 18000000.  ]\n",
      " [ 8027460.96  3000000.  ]\n",
      " [ 8212573.88 36500000.  ]\n",
      " [ 8205883.05  3060000.  ]\n",
      " [ 9566351.53   900000.  ]\n",
      " [ 9722470.87  2800000.  ]\n",
      " [ 8696543.82  6000000.  ]\n",
      " [10592278.58  5500000.  ]\n",
      " [ 8138974.77  5000000.  ]\n",
      " [14041177.68 15000000.  ]\n",
      " [ 8027460.96  1700000.  ]\n",
      " [ 9004544.96 25000000.  ]\n",
      " [ 7559102.96  8150000.  ]\n",
      " [15744216.58  9000000.  ]\n",
      " [ 8417759.29  6500000.  ]\n",
      " [ 9700168.1    400000.  ]\n",
      " [ 8016309.58  3020000.  ]\n",
      " [ 8573655.6  33000000.  ]\n",
      " [ 9031085.25  3000000.  ]\n",
      " [ 8518121.72  5000000.  ]\n",
      " [ 9744773.63  6000000.  ]\n",
      " [11105242.1    800000.  ]\n",
      " [15133120.91  6100000.  ]\n",
      " [ 7670616.77 10500000.  ]\n",
      " [12488013.34  2100000.  ]\n",
      " [13783580.78 17315892.  ]\n",
      " [ 8192501.4  13200000.  ]\n",
      " [ 8406607.91  4100000.  ]\n",
      " [ 7692919.53 11000000.  ]\n",
      " [ 9031085.25  6040000.  ]\n",
      " [14651381.25  4300000.  ]\n",
      " [12097268.95  9000000.  ]\n",
      " [ 9031085.25  3000000.  ]\n",
      " [ 8134514.22  8000000.  ]\n",
      " [11216755.91  5000000.  ]\n",
      " [12811403.39  9000000.  ]\n",
      " [17327712.68  2690000.  ]\n",
      " [18175217.63 38000000.  ]\n",
      " [16390996.68 12000000.  ]\n",
      " [13045582.39  5000000.  ]\n",
      " [ 7804433.34  4550000.  ]\n",
      " [11796627.72  4100000.  ]\n",
      " [ 8428910.67  1650000.  ]\n",
      " [17617648.58 11900000.  ]\n",
      " [15806664.32 13500000.  ]\n",
      " [ 8272791.34  1500000.  ]\n",
      " [ 8362002.39  8150000.  ]\n",
      " [16390996.68 31000000.  ]\n",
      " [ 9432534.96  4300000.  ]\n",
      " [10815306.2   9019515.  ]\n",
      " [11172150.39 14300000.  ]\n",
      " [ 9914720.67  1100000.  ]\n",
      " [15019376.82  3700000.  ]\n",
      " [10636884.1   7000000.  ]\n",
      " [15498886.2  11100000.  ]\n",
      " [ 9856287.44  1500000.  ]\n",
      " [10569975.82  4100000.  ]]\n"
     ]
    }
   ],
   "source": [
    "y_pred = regressor.predict(X_test)\n",
    "np.set_printoptions(precision=2)\n",
    "print(np.concatenate((y_pred.reshape(len(y_pred),1), y_test.reshape(len(y_test),1)),1))"
   ]
  },
  {
   "cell_type": "markdown",
   "metadata": {},
   "source": [
    "# Visualing the horse power Training set results"
   ]
  },
  {
   "cell_type": "code",
   "execution_count": 10,
   "metadata": {},
   "outputs": [
    {
     "name": "stderr",
     "output_type": "stream",
     "text": [
      "C:\\Users\\LENOVO LEGION\\AppData\\Local\\Programs\\Python\\Python39\\lib\\site-packages\\matplotlib\\backends\\backend_agg.py:240: RuntimeWarning: Glyph 3648 missing from current font.\n",
      "  font.set_text(s, 0.0, flags=flags)\n",
      "C:\\Users\\LENOVO LEGION\\AppData\\Local\\Programs\\Python\\Python39\\lib\\site-packages\\matplotlib\\backends\\backend_agg.py:240: RuntimeWarning: Glyph 3591 missing from current font.\n",
      "  font.set_text(s, 0.0, flags=flags)\n",
      "C:\\Users\\LENOVO LEGION\\AppData\\Local\\Programs\\Python\\Python39\\lib\\site-packages\\matplotlib\\backends\\backend_agg.py:240: RuntimeWarning: Glyph 3636 missing from current font.\n",
      "  font.set_text(s, 0.0, flags=flags)\n",
      "C:\\Users\\LENOVO LEGION\\AppData\\Local\\Programs\\Python\\Python39\\lib\\site-packages\\matplotlib\\backends\\backend_agg.py:240: RuntimeWarning: Glyph 3609 missing from current font.\n",
      "  font.set_text(s, 0.0, flags=flags)\n",
      "C:\\Users\\LENOVO LEGION\\AppData\\Local\\Programs\\Python\\Python39\\lib\\site-packages\\matplotlib\\backends\\backend_agg.py:240: RuntimeWarning: Glyph 3607 missing from current font.\n",
      "  font.set_text(s, 0.0, flags=flags)\n",
      "C:\\Users\\LENOVO LEGION\\AppData\\Local\\Programs\\Python\\Python39\\lib\\site-packages\\matplotlib\\backends\\backend_agg.py:240: RuntimeWarning: Glyph 3640 missing from current font.\n",
      "  font.set_text(s, 0.0, flags=flags)\n",
      "C:\\Users\\LENOVO LEGION\\AppData\\Local\\Programs\\Python\\Python39\\lib\\site-packages\\matplotlib\\backends\\backend_agg.py:240: RuntimeWarning: Glyph 3619 missing from current font.\n",
      "  font.set_text(s, 0.0, flags=flags)\n",
      "C:\\Users\\LENOVO LEGION\\AppData\\Local\\Programs\\Python\\Python39\\lib\\site-packages\\matplotlib\\backends\\backend_agg.py:240: RuntimeWarning: Glyph 3623 missing from current font.\n",
      "  font.set_text(s, 0.0, flags=flags)\n",
      "C:\\Users\\LENOVO LEGION\\AppData\\Local\\Programs\\Python\\Python39\\lib\\site-packages\\matplotlib\\backends\\backend_agg.py:240: RuntimeWarning: Glyph 3617 missing from current font.\n",
      "  font.set_text(s, 0.0, flags=flags)\n",
      "C:\\Users\\LENOVO LEGION\\AppData\\Local\\Programs\\Python\\Python39\\lib\\site-packages\\matplotlib\\backends\\backend_agg.py:240: RuntimeWarning: Glyph 3585 missing from current font.\n",
      "  font.set_text(s, 0.0, flags=flags)\n",
      "C:\\Users\\LENOVO LEGION\\AppData\\Local\\Programs\\Python\\Python39\\lib\\site-packages\\matplotlib\\backends\\backend_agg.py:240: RuntimeWarning: Glyph 3633 missing from current font.\n",
      "  font.set_text(s, 0.0, flags=flags)\n",
      "C:\\Users\\LENOVO LEGION\\AppData\\Local\\Programs\\Python\\Python39\\lib\\site-packages\\matplotlib\\backends\\backend_agg.py:240: RuntimeWarning: Glyph 3610 missing from current font.\n",
      "  font.set_text(s, 0.0, flags=flags)\n",
      "C:\\Users\\LENOVO LEGION\\AppData\\Local\\Programs\\Python\\Python39\\lib\\site-packages\\matplotlib\\backends\\backend_agg.py:240: RuntimeWarning: Glyph 3649 missing from current font.\n",
      "  font.set_text(s, 0.0, flags=flags)\n",
      "C:\\Users\\LENOVO LEGION\\AppData\\Local\\Programs\\Python\\Python39\\lib\\site-packages\\matplotlib\\backends\\backend_agg.py:240: RuntimeWarning: Glyph 3657 missing from current font.\n",
      "  font.set_text(s, 0.0, flags=flags)\n",
      "C:\\Users\\LENOVO LEGION\\AppData\\Local\\Programs\\Python\\Python39\\lib\\site-packages\\matplotlib\\backends\\backend_agg.py:240: RuntimeWarning: Glyph 3634 missing from current font.\n",
      "  font.set_text(s, 0.0, flags=flags)\n",
      "C:\\Users\\LENOVO LEGION\\AppData\\Local\\Programs\\Python\\Python39\\lib\\site-packages\\matplotlib\\backends\\backend_agg.py:240: RuntimeWarning: Glyph 3605 missing from current font.\n",
      "  font.set_text(s, 0.0, flags=flags)\n",
      "C:\\Users\\LENOVO LEGION\\AppData\\Local\\Programs\\Python\\Python39\\lib\\site-packages\\matplotlib\\backends\\backend_agg.py:240: RuntimeWarning: Glyph 3660 missing from current font.\n",
      "  font.set_text(s, 0.0, flags=flags)\n",
      "C:\\Users\\LENOVO LEGION\\AppData\\Local\\Programs\\Python\\Python39\\lib\\site-packages\\matplotlib\\backends\\backend_agg.py:203: RuntimeWarning: Glyph 3649 missing from current font.\n",
      "  font.set_text(s, 0, flags=flags)\n",
      "C:\\Users\\LENOVO LEGION\\AppData\\Local\\Programs\\Python\\Python39\\lib\\site-packages\\matplotlib\\backends\\backend_agg.py:203: RuntimeWarning: Glyph 3619 missing from current font.\n",
      "  font.set_text(s, 0, flags=flags)\n",
      "C:\\Users\\LENOVO LEGION\\AppData\\Local\\Programs\\Python\\Python39\\lib\\site-packages\\matplotlib\\backends\\backend_agg.py:203: RuntimeWarning: Glyph 3591 missing from current font.\n",
      "  font.set_text(s, 0, flags=flags)\n",
      "C:\\Users\\LENOVO LEGION\\AppData\\Local\\Programs\\Python\\Python39\\lib\\site-packages\\matplotlib\\backends\\backend_agg.py:203: RuntimeWarning: Glyph 3617 missing from current font.\n",
      "  font.set_text(s, 0, flags=flags)\n",
      "C:\\Users\\LENOVO LEGION\\AppData\\Local\\Programs\\Python\\Python39\\lib\\site-packages\\matplotlib\\backends\\backend_agg.py:203: RuntimeWarning: Glyph 3657 missing from current font.\n",
      "  font.set_text(s, 0, flags=flags)\n",
      "C:\\Users\\LENOVO LEGION\\AppData\\Local\\Programs\\Python\\Python39\\lib\\site-packages\\matplotlib\\backends\\backend_agg.py:203: RuntimeWarning: Glyph 3634 missing from current font.\n",
      "  font.set_text(s, 0, flags=flags)\n",
      "C:\\Users\\LENOVO LEGION\\AppData\\Local\\Programs\\Python\\Python39\\lib\\site-packages\\matplotlib\\backends\\backend_agg.py:203: RuntimeWarning: Glyph 3623 missing from current font.\n",
      "  font.set_text(s, 0, flags=flags)\n",
      "C:\\Users\\LENOVO LEGION\\AppData\\Local\\Programs\\Python\\Python39\\lib\\site-packages\\matplotlib\\backends\\backend_agg.py:203: RuntimeWarning: Glyph 3633 missing from current font.\n",
      "  font.set_text(s, 0, flags=flags)\n",
      "C:\\Users\\LENOVO LEGION\\AppData\\Local\\Programs\\Python\\Python39\\lib\\site-packages\\matplotlib\\backends\\backend_agg.py:203: RuntimeWarning: Glyph 3605 missing from current font.\n",
      "  font.set_text(s, 0, flags=flags)\n",
      "C:\\Users\\LENOVO LEGION\\AppData\\Local\\Programs\\Python\\Python39\\lib\\site-packages\\matplotlib\\backends\\backend_agg.py:203: RuntimeWarning: Glyph 3660 missing from current font.\n",
      "  font.set_text(s, 0, flags=flags)\n",
      "C:\\Users\\LENOVO LEGION\\AppData\\Local\\Programs\\Python\\Python39\\lib\\site-packages\\matplotlib\\backends\\backend_agg.py:203: RuntimeWarning: Glyph 3648 missing from current font.\n",
      "  font.set_text(s, 0, flags=flags)\n",
      "C:\\Users\\LENOVO LEGION\\AppData\\Local\\Programs\\Python\\Python39\\lib\\site-packages\\matplotlib\\backends\\backend_agg.py:203: RuntimeWarning: Glyph 3636 missing from current font.\n",
      "  font.set_text(s, 0, flags=flags)\n",
      "C:\\Users\\LENOVO LEGION\\AppData\\Local\\Programs\\Python\\Python39\\lib\\site-packages\\matplotlib\\backends\\backend_agg.py:203: RuntimeWarning: Glyph 3609 missing from current font.\n",
      "  font.set_text(s, 0, flags=flags)\n",
      "C:\\Users\\LENOVO LEGION\\AppData\\Local\\Programs\\Python\\Python39\\lib\\site-packages\\matplotlib\\backends\\backend_agg.py:203: RuntimeWarning: Glyph 3607 missing from current font.\n",
      "  font.set_text(s, 0, flags=flags)\n",
      "C:\\Users\\LENOVO LEGION\\AppData\\Local\\Programs\\Python\\Python39\\lib\\site-packages\\matplotlib\\backends\\backend_agg.py:203: RuntimeWarning: Glyph 3640 missing from current font.\n",
      "  font.set_text(s, 0, flags=flags)\n",
      "C:\\Users\\LENOVO LEGION\\AppData\\Local\\Programs\\Python\\Python39\\lib\\site-packages\\matplotlib\\backends\\backend_agg.py:203: RuntimeWarning: Glyph 3610 missing from current font.\n",
      "  font.set_text(s, 0, flags=flags)\n",
      "C:\\Users\\LENOVO LEGION\\AppData\\Local\\Programs\\Python\\Python39\\lib\\site-packages\\matplotlib\\backends\\backend_agg.py:203: RuntimeWarning: Glyph 3585 missing from current font.\n",
      "  font.set_text(s, 0, flags=flags)\n"
     ]
    },
    {
     "data": {
      "image/png": "[encoded data removed]",
      "text/plain": [
       "<Figure size 432x288 with 1 Axes>"
      ]
     },
     "metadata": {
      "needs_background": "light"
     },
     "output_type": "display_data"
    }
   ],
   "source": [
    "plt.scatter(X_train, y_train , color = 'red')\n",
    "plt.plot(X_train, regressor.predict(X_train), color = 'blue')\n",
    "plt.title('เงินทุนรวม กับ แรงม้า (Training sets)')\n",
    "plt.xlabel('แรงม้า (วัตต์)')\n",
    "plt.ylabel('เงินทุนรวม (บาท)')\n",
    "plt.show()"
   ]
  },
  {
   "cell_type": "markdown",
   "metadata": {},
   "source": [
    "# Visualing the horse power Test set results"
   ]
  },
  {
   "cell_type": "code",
   "execution_count": 11,
   "metadata": {},
   "outputs": [
    {
     "name": "stderr",
     "output_type": "stream",
     "text": [
      "C:\\Users\\LENOVO LEGION\\AppData\\Local\\Programs\\Python\\Python39\\lib\\site-packages\\matplotlib\\backends\\backend_agg.py:240: RuntimeWarning: Glyph 3648 missing from current font.\n",
      "  font.set_text(s, 0.0, flags=flags)\n",
      "C:\\Users\\LENOVO LEGION\\AppData\\Local\\Programs\\Python\\Python39\\lib\\site-packages\\matplotlib\\backends\\backend_agg.py:240: RuntimeWarning: Glyph 3591 missing from current font.\n",
      "  font.set_text(s, 0.0, flags=flags)\n",
      "C:\\Users\\LENOVO LEGION\\AppData\\Local\\Programs\\Python\\Python39\\lib\\site-packages\\matplotlib\\backends\\backend_agg.py:240: RuntimeWarning: Glyph 3636 missing from current font.\n",
      "  font.set_text(s, 0.0, flags=flags)\n",
      "C:\\Users\\LENOVO LEGION\\AppData\\Local\\Programs\\Python\\Python39\\lib\\site-packages\\matplotlib\\backends\\backend_agg.py:240: RuntimeWarning: Glyph 3609 missing from current font.\n",
      "  font.set_text(s, 0.0, flags=flags)\n",
      "C:\\Users\\LENOVO LEGION\\AppData\\Local\\Programs\\Python\\Python39\\lib\\site-packages\\matplotlib\\backends\\backend_agg.py:240: RuntimeWarning: Glyph 3607 missing from current font.\n",
      "  font.set_text(s, 0.0, flags=flags)\n",
      "C:\\Users\\LENOVO LEGION\\AppData\\Local\\Programs\\Python\\Python39\\lib\\site-packages\\matplotlib\\backends\\backend_agg.py:240: RuntimeWarning: Glyph 3640 missing from current font.\n",
      "  font.set_text(s, 0.0, flags=flags)\n",
      "C:\\Users\\LENOVO LEGION\\AppData\\Local\\Programs\\Python\\Python39\\lib\\site-packages\\matplotlib\\backends\\backend_agg.py:240: RuntimeWarning: Glyph 3619 missing from current font.\n",
      "  font.set_text(s, 0.0, flags=flags)\n",
      "C:\\Users\\LENOVO LEGION\\AppData\\Local\\Programs\\Python\\Python39\\lib\\site-packages\\matplotlib\\backends\\backend_agg.py:240: RuntimeWarning: Glyph 3623 missing from current font.\n",
      "  font.set_text(s, 0.0, flags=flags)\n",
      "C:\\Users\\LENOVO LEGION\\AppData\\Local\\Programs\\Python\\Python39\\lib\\site-packages\\matplotlib\\backends\\backend_agg.py:240: RuntimeWarning: Glyph 3617 missing from current font.\n",
      "  font.set_text(s, 0.0, flags=flags)\n",
      "C:\\Users\\LENOVO LEGION\\AppData\\Local\\Programs\\Python\\Python39\\lib\\site-packages\\matplotlib\\backends\\backend_agg.py:240: RuntimeWarning: Glyph 3585 missing from current font.\n",
      "  font.set_text(s, 0.0, flags=flags)\n",
      "C:\\Users\\LENOVO LEGION\\AppData\\Local\\Programs\\Python\\Python39\\lib\\site-packages\\matplotlib\\backends\\backend_agg.py:240: RuntimeWarning: Glyph 3633 missing from current font.\n",
      "  font.set_text(s, 0.0, flags=flags)\n",
      "C:\\Users\\LENOVO LEGION\\AppData\\Local\\Programs\\Python\\Python39\\lib\\site-packages\\matplotlib\\backends\\backend_agg.py:240: RuntimeWarning: Glyph 3610 missing from current font.\n",
      "  font.set_text(s, 0.0, flags=flags)\n",
      "C:\\Users\\LENOVO LEGION\\AppData\\Local\\Programs\\Python\\Python39\\lib\\site-packages\\matplotlib\\backends\\backend_agg.py:240: RuntimeWarning: Glyph 3649 missing from current font.\n",
      "  font.set_text(s, 0.0, flags=flags)\n",
      "C:\\Users\\LENOVO LEGION\\AppData\\Local\\Programs\\Python\\Python39\\lib\\site-packages\\matplotlib\\backends\\backend_agg.py:240: RuntimeWarning: Glyph 3657 missing from current font.\n",
      "  font.set_text(s, 0.0, flags=flags)\n",
      "C:\\Users\\LENOVO LEGION\\AppData\\Local\\Programs\\Python\\Python39\\lib\\site-packages\\matplotlib\\backends\\backend_agg.py:240: RuntimeWarning: Glyph 3634 missing from current font.\n",
      "  font.set_text(s, 0.0, flags=flags)\n",
      "C:\\Users\\LENOVO LEGION\\AppData\\Local\\Programs\\Python\\Python39\\lib\\site-packages\\matplotlib\\backends\\backend_agg.py:240: RuntimeWarning: Glyph 3605 missing from current font.\n",
      "  font.set_text(s, 0.0, flags=flags)\n",
      "C:\\Users\\LENOVO LEGION\\AppData\\Local\\Programs\\Python\\Python39\\lib\\site-packages\\matplotlib\\backends\\backend_agg.py:240: RuntimeWarning: Glyph 3660 missing from current font.\n",
      "  font.set_text(s, 0.0, flags=flags)\n",
      "C:\\Users\\LENOVO LEGION\\AppData\\Local\\Programs\\Python\\Python39\\lib\\site-packages\\matplotlib\\backends\\backend_agg.py:203: RuntimeWarning: Glyph 3649 missing from current font.\n",
      "  font.set_text(s, 0, flags=flags)\n",
      "C:\\Users\\LENOVO LEGION\\AppData\\Local\\Programs\\Python\\Python39\\lib\\site-packages\\matplotlib\\backends\\backend_agg.py:203: RuntimeWarning: Glyph 3619 missing from current font.\n",
      "  font.set_text(s, 0, flags=flags)\n",
      "C:\\Users\\LENOVO LEGION\\AppData\\Local\\Programs\\Python\\Python39\\lib\\site-packages\\matplotlib\\backends\\backend_agg.py:203: RuntimeWarning: Glyph 3591 missing from current font.\n",
      "  font.set_text(s, 0, flags=flags)\n",
      "C:\\Users\\LENOVO LEGION\\AppData\\Local\\Programs\\Python\\Python39\\lib\\site-packages\\matplotlib\\backends\\backend_agg.py:203: RuntimeWarning: Glyph 3617 missing from current font.\n",
      "  font.set_text(s, 0, flags=flags)\n",
      "C:\\Users\\LENOVO LEGION\\AppData\\Local\\Programs\\Python\\Python39\\lib\\site-packages\\matplotlib\\backends\\backend_agg.py:203: RuntimeWarning: Glyph 3657 missing from current font.\n",
      "  font.set_text(s, 0, flags=flags)\n",
      "C:\\Users\\LENOVO LEGION\\AppData\\Local\\Programs\\Python\\Python39\\lib\\site-packages\\matplotlib\\backends\\backend_agg.py:203: RuntimeWarning: Glyph 3634 missing from current font.\n",
      "  font.set_text(s, 0, flags=flags)\n",
      "C:\\Users\\LENOVO LEGION\\AppData\\Local\\Programs\\Python\\Python39\\lib\\site-packages\\matplotlib\\backends\\backend_agg.py:203: RuntimeWarning: Glyph 3623 missing from current font.\n",
      "  font.set_text(s, 0, flags=flags)\n",
      "C:\\Users\\LENOVO LEGION\\AppData\\Local\\Programs\\Python\\Python39\\lib\\site-packages\\matplotlib\\backends\\backend_agg.py:203: RuntimeWarning: Glyph 3633 missing from current font.\n",
      "  font.set_text(s, 0, flags=flags)\n",
      "C:\\Users\\LENOVO LEGION\\AppData\\Local\\Programs\\Python\\Python39\\lib\\site-packages\\matplotlib\\backends\\backend_agg.py:203: RuntimeWarning: Glyph 3605 missing from current font.\n",
      "  font.set_text(s, 0, flags=flags)\n",
      "C:\\Users\\LENOVO LEGION\\AppData\\Local\\Programs\\Python\\Python39\\lib\\site-packages\\matplotlib\\backends\\backend_agg.py:203: RuntimeWarning: Glyph 3660 missing from current font.\n",
      "  font.set_text(s, 0, flags=flags)\n",
      "C:\\Users\\LENOVO LEGION\\AppData\\Local\\Programs\\Python\\Python39\\lib\\site-packages\\matplotlib\\backends\\backend_agg.py:203: RuntimeWarning: Glyph 3648 missing from current font.\n",
      "  font.set_text(s, 0, flags=flags)\n",
      "C:\\Users\\LENOVO LEGION\\AppData\\Local\\Programs\\Python\\Python39\\lib\\site-packages\\matplotlib\\backends\\backend_agg.py:203: RuntimeWarning: Glyph 3636 missing from current font.\n",
      "  font.set_text(s, 0, flags=flags)\n",
      "C:\\Users\\LENOVO LEGION\\AppData\\Local\\Programs\\Python\\Python39\\lib\\site-packages\\matplotlib\\backends\\backend_agg.py:203: RuntimeWarning: Glyph 3609 missing from current font.\n",
      "  font.set_text(s, 0, flags=flags)\n",
      "C:\\Users\\LENOVO LEGION\\AppData\\Local\\Programs\\Python\\Python39\\lib\\site-packages\\matplotlib\\backends\\backend_agg.py:203: RuntimeWarning: Glyph 3607 missing from current font.\n",
      "  font.set_text(s, 0, flags=flags)\n",
      "C:\\Users\\LENOVO LEGION\\AppData\\Local\\Programs\\Python\\Python39\\lib\\site-packages\\matplotlib\\backends\\backend_agg.py:203: RuntimeWarning: Glyph 3640 missing from current font.\n",
      "  font.set_text(s, 0, flags=flags)\n",
      "C:\\Users\\LENOVO LEGION\\AppData\\Local\\Programs\\Python\\Python39\\lib\\site-packages\\matplotlib\\backends\\backend_agg.py:203: RuntimeWarning: Glyph 3610 missing from current font.\n",
      "  font.set_text(s, 0, flags=flags)\n",
      "C:\\Users\\LENOVO LEGION\\AppData\\Local\\Programs\\Python\\Python39\\lib\\site-packages\\matplotlib\\backends\\backend_agg.py:203: RuntimeWarning: Glyph 3585 missing from current font.\n",
      "  font.set_text(s, 0, flags=flags)\n"
     ]
    },
    {
     "data": {
      "image/png": "[encoded data removed]",
      "text/plain": [
       "<Figure size 432x288 with 1 Axes>"
      ]
     },
     "metadata": {
      "needs_background": "light"
     },
     "output_type": "display_data"
    }
   ],
   "source": [
    "plt.scatter(X_test, y_test , color = 'red')\n",
    "plt.plot(X_train, regressor.predict(X_train), color = 'blue')\n",
    "plt.title('เงินทุนรวม กับ แรงม้า (Test sets)')\n",
    "plt.xlabel('แรงม้า (วัตต์)')\n",
    "plt.ylabel('เงินทุนรวม (บาท)')\n",
    "plt.show()"
   ]
  },
  {
   "cell_type": "markdown",
   "metadata": {},
   "source": [
    "# Compare y_test vs y_predict"
   ]
  },
  {
   "cell_type": "code",
   "execution_count": 12,
   "metadata": {},
   "outputs": [
    {
     "name": "stderr",
     "output_type": "stream",
     "text": [
      "C:\\Users\\LENOVO LEGION\\AppData\\Local\\Programs\\Python\\Python39\\lib\\site-packages\\matplotlib\\backends\\backend_agg.py:240: RuntimeWarning: Glyph 3648 missing from current font.\n",
      "  font.set_text(s, 0.0, flags=flags)\n",
      "C:\\Users\\LENOVO LEGION\\AppData\\Local\\Programs\\Python\\Python39\\lib\\site-packages\\matplotlib\\backends\\backend_agg.py:240: RuntimeWarning: Glyph 3611 missing from current font.\n",
      "  font.set_text(s, 0.0, flags=flags)\n",
      "C:\\Users\\LENOVO LEGION\\AppData\\Local\\Programs\\Python\\Python39\\lib\\site-packages\\matplotlib\\backends\\backend_agg.py:240: RuntimeWarning: Glyph 3619 missing from current font.\n",
      "  font.set_text(s, 0.0, flags=flags)\n",
      "C:\\Users\\LENOVO LEGION\\AppData\\Local\\Programs\\Python\\Python39\\lib\\site-packages\\matplotlib\\backends\\backend_agg.py:240: RuntimeWarning: Glyph 3637 missing from current font.\n",
      "  font.set_text(s, 0.0, flags=flags)\n",
      "C:\\Users\\LENOVO LEGION\\AppData\\Local\\Programs\\Python\\Python39\\lib\\site-packages\\matplotlib\\backends\\backend_agg.py:240: RuntimeWarning: Glyph 3618 missing from current font.\n",
      "  font.set_text(s, 0.0, flags=flags)\n",
      "C:\\Users\\LENOVO LEGION\\AppData\\Local\\Programs\\Python\\Python39\\lib\\site-packages\\matplotlib\\backends\\backend_agg.py:240: RuntimeWarning: Glyph 3610 missing from current font.\n",
      "  font.set_text(s, 0.0, flags=flags)\n",
      "C:\\Users\\LENOVO LEGION\\AppData\\Local\\Programs\\Python\\Python39\\lib\\site-packages\\matplotlib\\backends\\backend_agg.py:240: RuntimeWarning: Glyph 3607 missing from current font.\n",
      "  font.set_text(s, 0.0, flags=flags)\n",
      "C:\\Users\\LENOVO LEGION\\AppData\\Local\\Programs\\Python\\Python39\\lib\\site-packages\\matplotlib\\backends\\backend_agg.py:240: RuntimeWarning: Glyph 3591 missing from current font.\n",
      "  font.set_text(s, 0.0, flags=flags)\n",
      "C:\\Users\\LENOVO LEGION\\AppData\\Local\\Programs\\Python\\Python39\\lib\\site-packages\\matplotlib\\backends\\backend_agg.py:240: RuntimeWarning: Glyph 3636 missing from current font.\n",
      "  font.set_text(s, 0.0, flags=flags)\n",
      "C:\\Users\\LENOVO LEGION\\AppData\\Local\\Programs\\Python\\Python39\\lib\\site-packages\\matplotlib\\backends\\backend_agg.py:240: RuntimeWarning: Glyph 3609 missing from current font.\n",
      "  font.set_text(s, 0.0, flags=flags)\n",
      "C:\\Users\\LENOVO LEGION\\AppData\\Local\\Programs\\Python\\Python39\\lib\\site-packages\\matplotlib\\backends\\backend_agg.py:240: RuntimeWarning: Glyph 3640 missing from current font.\n",
      "  font.set_text(s, 0.0, flags=flags)\n",
      "C:\\Users\\LENOVO LEGION\\AppData\\Local\\Programs\\Python\\Python39\\lib\\site-packages\\matplotlib\\backends\\backend_agg.py:240: RuntimeWarning: Glyph 3623 missing from current font.\n",
      "  font.set_text(s, 0.0, flags=flags)\n",
      "C:\\Users\\LENOVO LEGION\\AppData\\Local\\Programs\\Python\\Python39\\lib\\site-packages\\matplotlib\\backends\\backend_agg.py:240: RuntimeWarning: Glyph 3617 missing from current font.\n",
      "  font.set_text(s, 0.0, flags=flags)\n",
      "C:\\Users\\LENOVO LEGION\\AppData\\Local\\Programs\\Python\\Python39\\lib\\site-packages\\matplotlib\\backends\\backend_agg.py:240: RuntimeWarning: Glyph 3585 missing from current font.\n",
      "  font.set_text(s, 0.0, flags=flags)\n",
      "C:\\Users\\LENOVO LEGION\\AppData\\Local\\Programs\\Python\\Python39\\lib\\site-packages\\matplotlib\\backends\\backend_agg.py:240: RuntimeWarning: Glyph 3633 missing from current font.\n",
      "  font.set_text(s, 0.0, flags=flags)\n",
      "C:\\Users\\LENOVO LEGION\\AppData\\Local\\Programs\\Python\\Python39\\lib\\site-packages\\matplotlib\\backends\\backend_agg.py:240: RuntimeWarning: Glyph 3649 missing from current font.\n",
      "  font.set_text(s, 0.0, flags=flags)\n",
      "C:\\Users\\LENOVO LEGION\\AppData\\Local\\Programs\\Python\\Python39\\lib\\site-packages\\matplotlib\\backends\\backend_agg.py:240: RuntimeWarning: Glyph 3657 missing from current font.\n",
      "  font.set_text(s, 0.0, flags=flags)\n",
      "C:\\Users\\LENOVO LEGION\\AppData\\Local\\Programs\\Python\\Python39\\lib\\site-packages\\matplotlib\\backends\\backend_agg.py:240: RuntimeWarning: Glyph 3634 missing from current font.\n",
      "  font.set_text(s, 0.0, flags=flags)\n",
      "C:\\Users\\LENOVO LEGION\\AppData\\Local\\Programs\\Python\\Python39\\lib\\site-packages\\matplotlib\\backends\\backend_agg.py:240: RuntimeWarning: Glyph 3605 missing from current font.\n",
      "  font.set_text(s, 0.0, flags=flags)\n",
      "C:\\Users\\LENOVO LEGION\\AppData\\Local\\Programs\\Python\\Python39\\lib\\site-packages\\matplotlib\\backends\\backend_agg.py:240: RuntimeWarning: Glyph 3660 missing from current font.\n",
      "  font.set_text(s, 0.0, flags=flags)\n",
      "C:\\Users\\LENOVO LEGION\\AppData\\Local\\Programs\\Python\\Python39\\lib\\site-packages\\matplotlib\\backends\\backend_agg.py:203: RuntimeWarning: Glyph 3649 missing from current font.\n",
      "  font.set_text(s, 0, flags=flags)\n",
      "C:\\Users\\LENOVO LEGION\\AppData\\Local\\Programs\\Python\\Python39\\lib\\site-packages\\matplotlib\\backends\\backend_agg.py:203: RuntimeWarning: Glyph 3619 missing from current font.\n",
      "  font.set_text(s, 0, flags=flags)\n",
      "C:\\Users\\LENOVO LEGION\\AppData\\Local\\Programs\\Python\\Python39\\lib\\site-packages\\matplotlib\\backends\\backend_agg.py:203: RuntimeWarning: Glyph 3591 missing from current font.\n",
      "  font.set_text(s, 0, flags=flags)\n",
      "C:\\Users\\LENOVO LEGION\\AppData\\Local\\Programs\\Python\\Python39\\lib\\site-packages\\matplotlib\\backends\\backend_agg.py:203: RuntimeWarning: Glyph 3617 missing from current font.\n",
      "  font.set_text(s, 0, flags=flags)\n",
      "C:\\Users\\LENOVO LEGION\\AppData\\Local\\Programs\\Python\\Python39\\lib\\site-packages\\matplotlib\\backends\\backend_agg.py:203: RuntimeWarning: Glyph 3657 missing from current font.\n",
      "  font.set_text(s, 0, flags=flags)\n",
      "C:\\Users\\LENOVO LEGION\\AppData\\Local\\Programs\\Python\\Python39\\lib\\site-packages\\matplotlib\\backends\\backend_agg.py:203: RuntimeWarning: Glyph 3634 missing from current font.\n",
      "  font.set_text(s, 0, flags=flags)\n",
      "C:\\Users\\LENOVO LEGION\\AppData\\Local\\Programs\\Python\\Python39\\lib\\site-packages\\matplotlib\\backends\\backend_agg.py:203: RuntimeWarning: Glyph 3623 missing from current font.\n",
      "  font.set_text(s, 0, flags=flags)\n",
      "C:\\Users\\LENOVO LEGION\\AppData\\Local\\Programs\\Python\\Python39\\lib\\site-packages\\matplotlib\\backends\\backend_agg.py:203: RuntimeWarning: Glyph 3633 missing from current font.\n",
      "  font.set_text(s, 0, flags=flags)\n",
      "C:\\Users\\LENOVO LEGION\\AppData\\Local\\Programs\\Python\\Python39\\lib\\site-packages\\matplotlib\\backends\\backend_agg.py:203: RuntimeWarning: Glyph 3605 missing from current font.\n",
      "  font.set_text(s, 0, flags=flags)\n",
      "C:\\Users\\LENOVO LEGION\\AppData\\Local\\Programs\\Python\\Python39\\lib\\site-packages\\matplotlib\\backends\\backend_agg.py:203: RuntimeWarning: Glyph 3660 missing from current font.\n",
      "  font.set_text(s, 0, flags=flags)\n",
      "C:\\Users\\LENOVO LEGION\\AppData\\Local\\Programs\\Python\\Python39\\lib\\site-packages\\matplotlib\\backends\\backend_agg.py:203: RuntimeWarning: Glyph 3648 missing from current font.\n",
      "  font.set_text(s, 0, flags=flags)\n",
      "C:\\Users\\LENOVO LEGION\\AppData\\Local\\Programs\\Python\\Python39\\lib\\site-packages\\matplotlib\\backends\\backend_agg.py:203: RuntimeWarning: Glyph 3636 missing from current font.\n",
      "  font.set_text(s, 0, flags=flags)\n",
      "C:\\Users\\LENOVO LEGION\\AppData\\Local\\Programs\\Python\\Python39\\lib\\site-packages\\matplotlib\\backends\\backend_agg.py:203: RuntimeWarning: Glyph 3609 missing from current font.\n",
      "  font.set_text(s, 0, flags=flags)\n",
      "C:\\Users\\LENOVO LEGION\\AppData\\Local\\Programs\\Python\\Python39\\lib\\site-packages\\matplotlib\\backends\\backend_agg.py:203: RuntimeWarning: Glyph 3607 missing from current font.\n",
      "  font.set_text(s, 0, flags=flags)\n",
      "C:\\Users\\LENOVO LEGION\\AppData\\Local\\Programs\\Python\\Python39\\lib\\site-packages\\matplotlib\\backends\\backend_agg.py:203: RuntimeWarning: Glyph 3640 missing from current font.\n",
      "  font.set_text(s, 0, flags=flags)\n",
      "C:\\Users\\LENOVO LEGION\\AppData\\Local\\Programs\\Python\\Python39\\lib\\site-packages\\matplotlib\\backends\\backend_agg.py:203: RuntimeWarning: Glyph 3610 missing from current font.\n",
      "  font.set_text(s, 0, flags=flags)\n",
      "C:\\Users\\LENOVO LEGION\\AppData\\Local\\Programs\\Python\\Python39\\lib\\site-packages\\matplotlib\\backends\\backend_agg.py:203: RuntimeWarning: Glyph 3611 missing from current font.\n",
      "  font.set_text(s, 0, flags=flags)\n",
      "C:\\Users\\LENOVO LEGION\\AppData\\Local\\Programs\\Python\\Python39\\lib\\site-packages\\matplotlib\\backends\\backend_agg.py:203: RuntimeWarning: Glyph 3637 missing from current font.\n",
      "  font.set_text(s, 0, flags=flags)\n",
      "C:\\Users\\LENOVO LEGION\\AppData\\Local\\Programs\\Python\\Python39\\lib\\site-packages\\matplotlib\\backends\\backend_agg.py:203: RuntimeWarning: Glyph 3618 missing from current font.\n",
      "  font.set_text(s, 0, flags=flags)\n",
      "C:\\Users\\LENOVO LEGION\\AppData\\Local\\Programs\\Python\\Python39\\lib\\site-packages\\matplotlib\\backends\\backend_agg.py:203: RuntimeWarning: Glyph 3585 missing from current font.\n",
      "  font.set_text(s, 0, flags=flags)\n"
     ]
    },
    {
     "data": {
      "image/png": "[encoded data removed]",
      "text/plain": [
       "<Figure size 432x288 with 1 Axes>"
      ]
     },
     "metadata": {
      "needs_background": "light"
     },
     "output_type": "display_data"
    }
   ],
   "source": [
    "plt.scatter(X_test, y_test , color = 'red')\n",
    "plt.scatter(X_test, y_pred , color = 'blue')\n",
    "plt.plot(X_train, regressor.predict(X_train), color = 'green')\n",
    "plt.title('เปรียบเทียบ เงินทุนรวม(test) กับ เงินทุนรวม(predict)')\n",
    "plt.xlabel('แรงม้า (วัตต์)')\n",
    "plt.ylabel('เงินทุนรวม (บาท)')\n",
    "plt.show()"
   ]
  },
  {
   "cell_type": "markdown",
   "metadata": {},
   "source": [
    "# Evaluating the Model Performance"
   ]
  },
  {
   "cell_type": "code",
   "execution_count": 13,
   "metadata": {},
   "outputs": [
    {
     "data": {
      "text/plain": [
       "0.06309434788267365"
      ]
     },
     "execution_count": 13,
     "metadata": {},
     "output_type": "execute_result"
    }
   ],
   "source": [
    "from sklearn.metrics import r2_score\n",
    "r2_score(y_test, y_pred)"
   ]
  }
 ],
 "metadata": {
  "interpreter": {
   "hash": "eceb7a8e593eecf964bee5cd24a0245b366a6d3412387e804a3878e990311275"
  },
  "kernelspec": {
   "display_name": "Python 3.9.2 64-bit",
   "language": "python",
   "name": "python3"
  },
  "language_info": {
   "codemirror_mode": {
    "name": "ipython",
    "version": 3
   },
   "file_extension": ".py",
   "mimetype": "text/x-python",
   "name": "python",
   "nbconvert_exporter": "python",
   "pygments_lexer": "ipython3",
   "version": "3.9.2"
  },
  "orig_nbformat": 4
 },
 "nbformat": 4,
 "nbformat_minor": 2
}
